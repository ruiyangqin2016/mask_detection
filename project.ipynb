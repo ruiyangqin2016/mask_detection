{
 "cells": [
  {
   "cell_type": "markdown",
   "metadata": {},
   "source": [
    "### Library"
   ]
  },
  {
   "cell_type": "code",
   "execution_count": 1,
   "metadata": {},
   "outputs": [],
   "source": [
    "import numpy as np\n",
    "import cv2\n",
    "import matplotlib.pyplot as plt\n",
    "from deepface import DeepFace\n",
    "import pandas as pd\n",
    "import time\n",
    "import os\n",
    "from tensorflow.keras.preprocessing.image import img_to_array\n",
    "from tensorflow.keras.applications import ResNet50"
   ]
  },
  {
   "cell_type": "markdown",
   "metadata": {},
   "source": [
    "### Some constant"
   ]
  },
  {
   "cell_type": "markdown",
   "metadata": {},
   "source": [
    "Note: macOS cannot quit properly in jupyter notebook"
   ]
  },
  {
   "cell_type": "markdown",
   "metadata": {},
   "source": [
    "#### Change the cv_flag to switch between live camera and video"
   ]
  },
  {
   "cell_type": "code",
   "execution_count": 2,
   "metadata": {},
   "outputs": [],
   "source": [
    "# cv_flag = \"test.mp4\"\n",
    "cv_flag = 0"
   ]
  },
  {
   "cell_type": "code",
   "execution_count": 3,
   "metadata": {},
   "outputs": [],
   "source": [
    "deploy_path = \"./res_ssd/deploy.prototxt\"\n",
    "model_path = \"./res_ssd/res10_300x300_ssd_iter_140000.caffemodel\"\n",
    "deep_face_database = \"./database/\"\n"
   ]
  },
  {
   "cell_type": "markdown",
   "metadata": {},
   "source": [
    "### Remove previous represenation in database folder"
   ]
  },
  {
   "cell_type": "code",
   "execution_count": 4,
   "metadata": {},
   "outputs": [],
   "source": [
    "if os.path.exists(deep_face_database + \"representations_fbdeepface_model.pkl\"):\n",
    "    os.remove(deep_face_database + \"representations_fbdeepface_model.pkl\")"
   ]
  },
  {
   "cell_type": "markdown",
   "metadata": {},
   "source": [
    "### Function to detect the bounding box of a face"
   ]
  },
  {
   "cell_type": "code",
   "execution_count": 5,
   "metadata": {},
   "outputs": [],
   "source": [
    "OFFSET = 20\n",
    "def detect(frame, faceNet):\n",
    "    \n",
    "    (h, w) = frame.shape[:2]\n",
    "    blob = cv2.dnn.blobFromImage(frame, \n",
    "                                 1.0, \n",
    "                                 (224, 224),\n",
    "                                 (104.0, 177.0, 123.0))\n",
    "\n",
    "    faceNet.setInput(blob)\n",
    "    detections = faceNet.forward()\n",
    "\n",
    "    locs = []\n",
    "    faces = []\n",
    "\n",
    "    for i in range(0, detections.shape[2]):\n",
    "        confidence = detections[0, 0, i, 2]\n",
    "\n",
    "        if confidence > 0.5:\n",
    "            box = detections[0, 0, i, 3:7] * np.array([w, h, w, h])\n",
    "            (startX, startY, endX, endY) = box.astype(\"int\")\n",
    "\n",
    "            (startX, startY) = (max(0, startX-OFFSET), max(0, startY-OFFSET))\n",
    "            (endX, endY) = (min(w - 1, endX+OFFSET), min(h - 1, endY+OFFSET))\n",
    "\n",
    "            face = frame[startY:endY, startX:endX]\n",
    "            face = cv2.resize(face, (224, 224))\n",
    "\n",
    "            faces.append(face)\n",
    "            locs.append((startX, startY, endX, endY))\n",
    "\n",
    "    return locs, faces"
   ]
  },
  {
   "cell_type": "markdown",
   "metadata": {},
   "source": [
    "### Function  to load deepface module"
   ]
  },
  {
   "cell_type": "code",
   "execution_count": 6,
   "metadata": {},
   "outputs": [],
   "source": [
    "from deepface.basemodels import VGGFace, OpenFace, Facenet, FbDeepFace, DeepID\n",
    "vgg_model = VGGFace.loadModel()\n",
    "def get_deepFace_result(face):\n",
    "    cv2.imwrite('tmp.jpg', face)\n",
    "    df = DeepFace.find(img_path=\"tmp.jpg\", \n",
    "                       db_path=deep_face_database, \n",
    "                       enforce_detection=False, \n",
    "                       model_name = 'VGG-Model',\n",
    "                       model = vgg_model,\n",
    "                       distance_metric = 'cosine')\n",
    "#     df = DeepFace.find(img_path=\"tmp.jpg\", \n",
    "#                        db_path=deep_face_database, \n",
    "#                        enforce_detection=False)\n",
    "    id = \"unknown\"\n",
    "    if df.shape[0] >0:\n",
    "        id = df.iloc[0].identity\n",
    "        print(id)\n",
    "        print(os.path.split(id)[0])\n",
    "        id = os.path.split(id)[0].replace(deep_face_database,'')\n",
    "    return id"
   ]
  },
  {
   "cell_type": "markdown",
   "metadata": {},
   "source": [
    "### Load mask detection model"
   ]
  },
  {
   "cell_type": "code",
   "execution_count": 7,
   "metadata": {},
   "outputs": [],
   "source": [
    "from tensorflow.keras.models import load_model\n",
    "mask_model = load_model('face_mask.h5')"
   ]
  },
  {
   "cell_type": "markdown",
   "metadata": {},
   "source": [
    "### Use OpenCV to open video stream and do the detection"
   ]
  },
  {
   "cell_type": "code",
   "execution_count": null,
   "metadata": {},
   "outputs": [
    {
     "name": "stderr",
     "output_type": "stream",
     "text": [
      "\r",
      "Analyzing:   0%|          | 0/1 [00:00<?, ?it/s]"
     ]
    },
    {
     "name": "stdout",
     "output_type": "stream",
     "text": [
      "Already built model is passed\n",
      "WARNING: Representations for images in  ./database/  folder were previously stored in  representations_vgg_model.pkl . If you added new instances after this file creation, then please delete this file and call find function again. It will create it again.\n",
      "There are  5  representations found in  representations_vgg_model.pkl\n"
     ]
    },
    {
     "name": "stderr",
     "output_type": "stream",
     "text": [
      "Analyzing: 100%|██████████| 1/1 [00:00<00:00,  1.78it/s]\n"
     ]
    },
    {
     "name": "stdout",
     "output_type": "stream",
     "text": [
      "find function lasts  0.574012041091919  seconds\n",
      "./database/Zirong Yu/front_nomask.jpg\n",
      "./database/Zirong Yu\n"
     ]
    },
    {
     "name": "stderr",
     "output_type": "stream",
     "text": [
      "\r",
      "Analyzing:   0%|          | 0/1 [00:00<?, ?it/s]"
     ]
    },
    {
     "name": "stdout",
     "output_type": "stream",
     "text": [
      "Already built model is passed\n",
      "WARNING: Representations for images in  ./database/  folder were previously stored in  representations_vgg_model.pkl . If you added new instances after this file creation, then please delete this file and call find function again. It will create it again.\n",
      "There are  5  representations found in  representations_vgg_model.pkl\n"
     ]
    },
    {
     "name": "stderr",
     "output_type": "stream",
     "text": [
      "Analyzing: 100%|██████████| 1/1 [00:00<00:00,  2.43it/s]\n"
     ]
    },
    {
     "name": "stdout",
     "output_type": "stream",
     "text": [
      "find function lasts  0.4159119129180908  seconds\n",
      "./database/Zirong Yu/front_nomask.jpg\n",
      "./database/Zirong Yu\n"
     ]
    },
    {
     "name": "stderr",
     "output_type": "stream",
     "text": [
      "\r",
      "Analyzing:   0%|          | 0/1 [00:00<?, ?it/s]"
     ]
    },
    {
     "name": "stdout",
     "output_type": "stream",
     "text": [
      "Already built model is passed\n",
      "WARNING: Representations for images in  ./database/  folder were previously stored in  representations_vgg_model.pkl . If you added new instances after this file creation, then please delete this file and call find function again. It will create it again.\n",
      "There are  5  representations found in  representations_vgg_model.pkl\n"
     ]
    },
    {
     "name": "stderr",
     "output_type": "stream",
     "text": [
      "Analyzing: 100%|██████████| 1/1 [00:00<00:00,  2.87it/s]\n",
      "Analyzing:   0%|          | 0/1 [00:00<?, ?it/s]"
     ]
    },
    {
     "name": "stdout",
     "output_type": "stream",
     "text": [
      "find function lasts  0.3527238368988037  seconds\n",
      "./database/Zirong Yu/front_nomask.jpg\n",
      "./database/Zirong Yu\n",
      "Already built model is passed\n",
      "WARNING: Representations for images in  ./database/  folder were previously stored in  representations_vgg_model.pkl . If you added new instances after this file creation, then please delete this file and call find function again. It will create it again.\n",
      "There are  5  representations found in  representations_vgg_model.pkl\n"
     ]
    },
    {
     "name": "stderr",
     "output_type": "stream",
     "text": [
      "Analyzing: 100%|██████████| 1/1 [00:00<00:00,  2.71it/s]\n",
      "Analyzing:   0%|          | 0/1 [00:00<?, ?it/s]"
     ]
    },
    {
     "name": "stdout",
     "output_type": "stream",
     "text": [
      "find function lasts  0.3736577033996582  seconds\n",
      "./database/Zirong Yu/front_nomask.jpg\n",
      "./database/Zirong Yu\n",
      "Already built model is passed\n",
      "WARNING: Representations for images in  ./database/  folder were previously stored in  representations_vgg_model.pkl . If you added new instances after this file creation, then please delete this file and call find function again. It will create it again.\n",
      "There are  5  representations found in  representations_vgg_model.pkl\n"
     ]
    },
    {
     "name": "stderr",
     "output_type": "stream",
     "text": [
      "Analyzing: 100%|██████████| 1/1 [00:00<00:00,  3.02it/s]\n"
     ]
    },
    {
     "name": "stdout",
     "output_type": "stream",
     "text": [
      "find function lasts  0.3353152275085449  seconds\n",
      "./database/Zirong Yu/front_nomask.jpg\n",
      "./database/Zirong Yu\n"
     ]
    },
    {
     "name": "stderr",
     "output_type": "stream",
     "text": [
      "\r",
      "Analyzing:   0%|          | 0/1 [00:00<?, ?it/s]"
     ]
    },
    {
     "name": "stdout",
     "output_type": "stream",
     "text": [
      "Already built model is passed\n",
      "WARNING: Representations for images in  ./database/  folder were previously stored in  representations_vgg_model.pkl . If you added new instances after this file creation, then please delete this file and call find function again. It will create it again.\n",
      "There are  5  representations found in  representations_vgg_model.pkl\n"
     ]
    },
    {
     "name": "stderr",
     "output_type": "stream",
     "text": [
      "Analyzing: 100%|██████████| 1/1 [00:00<00:00,  3.00it/s]\n",
      "Analyzing:   0%|          | 0/1 [00:00<?, ?it/s]"
     ]
    },
    {
     "name": "stdout",
     "output_type": "stream",
     "text": [
      "find function lasts  0.3379688262939453  seconds\n",
      "./database/Zirong Yu/front_nomask.jpg\n",
      "./database/Zirong Yu\n",
      "Already built model is passed\n",
      "WARNING: Representations for images in  ./database/  folder were previously stored in  representations_vgg_model.pkl . If you added new instances after this file creation, then please delete this file and call find function again. It will create it again.\n",
      "There are  5  representations found in  representations_vgg_model.pkl\n"
     ]
    },
    {
     "name": "stderr",
     "output_type": "stream",
     "text": [
      "Analyzing: 100%|██████████| 1/1 [00:00<00:00,  3.00it/s]\n",
      "Analyzing:   0%|          | 0/1 [00:00<?, ?it/s]"
     ]
    },
    {
     "name": "stdout",
     "output_type": "stream",
     "text": [
      "find function lasts  0.33728909492492676  seconds\n",
      "./database/Zirong Yu/front_nomask.jpg\n",
      "./database/Zirong Yu\n",
      "Already built model is passed\n",
      "WARNING: Representations for images in  ./database/  folder were previously stored in  representations_vgg_model.pkl . If you added new instances after this file creation, then please delete this file and call find function again. It will create it again.\n",
      "There are  5  representations found in  representations_vgg_model.pkl\n"
     ]
    },
    {
     "name": "stderr",
     "output_type": "stream",
     "text": [
      "Analyzing: 100%|██████████| 1/1 [00:00<00:00,  3.13it/s]\n",
      "Analyzing:   0%|          | 0/1 [00:00<?, ?it/s]"
     ]
    },
    {
     "name": "stdout",
     "output_type": "stream",
     "text": [
      "find function lasts  0.3250250816345215  seconds\n",
      "./database/Zirong Yu/front_nomask.jpg\n",
      "./database/Zirong Yu\n",
      "Already built model is passed\n",
      "WARNING: Representations for images in  ./database/  folder were previously stored in  representations_vgg_model.pkl . If you added new instances after this file creation, then please delete this file and call find function again. It will create it again.\n",
      "There are  5  representations found in  representations_vgg_model.pkl\n"
     ]
    },
    {
     "name": "stderr",
     "output_type": "stream",
     "text": [
      "Analyzing: 100%|██████████| 1/1 [00:00<00:00,  1.75it/s]\n"
     ]
    },
    {
     "name": "stdout",
     "output_type": "stream",
     "text": [
      "find function lasts  0.5762522220611572  seconds\n",
      "./database/Zirong Yu/front_nomask.jpg\n",
      "./database/Zirong Yu\n"
     ]
    },
    {
     "name": "stderr",
     "output_type": "stream",
     "text": [
      "\r",
      "Analyzing:   0%|          | 0/1 [00:00<?, ?it/s]"
     ]
    },
    {
     "name": "stdout",
     "output_type": "stream",
     "text": [
      "Already built model is passed\n",
      "WARNING: Representations for images in  ./database/  folder were previously stored in  representations_vgg_model.pkl . If you added new instances after this file creation, then please delete this file and call find function again. It will create it again.\n",
      "There are  5  representations found in  representations_vgg_model.pkl\n"
     ]
    },
    {
     "name": "stderr",
     "output_type": "stream",
     "text": [
      "Analyzing: 100%|██████████| 1/1 [00:00<00:00,  2.15it/s]\n"
     ]
    },
    {
     "name": "stdout",
     "output_type": "stream",
     "text": [
      "find function lasts  0.4717140197753906  seconds\n",
      "./database/Zirong Yu/front_nomask.jpg\n",
      "./database/Zirong Yu\n"
     ]
    },
    {
     "name": "stderr",
     "output_type": "stream",
     "text": [
      "\r",
      "Analyzing:   0%|          | 0/1 [00:00<?, ?it/s]"
     ]
    },
    {
     "name": "stdout",
     "output_type": "stream",
     "text": [
      "Already built model is passed\n",
      "WARNING: Representations for images in  ./database/  folder were previously stored in  representations_vgg_model.pkl . If you added new instances after this file creation, then please delete this file and call find function again. It will create it again.\n",
      "There are  5  representations found in  representations_vgg_model.pkl\n"
     ]
    },
    {
     "name": "stderr",
     "output_type": "stream",
     "text": [
      "Analyzing: 100%|██████████| 1/1 [00:00<00:00,  1.89it/s]\n"
     ]
    },
    {
     "name": "stdout",
     "output_type": "stream",
     "text": [
      "find function lasts  0.5398499965667725  seconds\n",
      "./database/Zirong Yu/front_nomask.jpg\n",
      "./database/Zirong Yu\n"
     ]
    },
    {
     "name": "stderr",
     "output_type": "stream",
     "text": [
      "\r",
      "Analyzing:   0%|          | 0/1 [00:00<?, ?it/s]"
     ]
    },
    {
     "name": "stdout",
     "output_type": "stream",
     "text": [
      "Already built model is passed\n",
      "WARNING: Representations for images in  ./database/  folder were previously stored in  representations_vgg_model.pkl . If you added new instances after this file creation, then please delete this file and call find function again. It will create it again.\n",
      "There are  5  representations found in  representations_vgg_model.pkl\n"
     ]
    },
    {
     "name": "stderr",
     "output_type": "stream",
     "text": [
      "Analyzing: 100%|██████████| 1/1 [00:00<00:00,  2.14it/s]\n"
     ]
    },
    {
     "name": "stdout",
     "output_type": "stream",
     "text": [
      "find function lasts  0.48487377166748047  seconds\n",
      "./database/Zirong Yu/front_nomask.jpg\n",
      "./database/Zirong Yu\n"
     ]
    },
    {
     "name": "stderr",
     "output_type": "stream",
     "text": [
      "\r",
      "Analyzing:   0%|          | 0/1 [00:00<?, ?it/s]"
     ]
    },
    {
     "name": "stdout",
     "output_type": "stream",
     "text": [
      "Already built model is passed\n",
      "WARNING: Representations for images in  ./database/  folder were previously stored in  representations_vgg_model.pkl . If you added new instances after this file creation, then please delete this file and call find function again. It will create it again.\n",
      "There are  5  representations found in  representations_vgg_model.pkl\n"
     ]
    },
    {
     "name": "stderr",
     "output_type": "stream",
     "text": [
      "Analyzing: 100%|██████████| 1/1 [00:00<00:00,  2.25it/s]\n"
     ]
    },
    {
     "name": "stdout",
     "output_type": "stream",
     "text": [
      "find function lasts  0.45481395721435547  seconds\n",
      "./database/Zirong Yu/1606259394031.jpg\n",
      "./database/Zirong Yu\n"
     ]
    },
    {
     "name": "stderr",
     "output_type": "stream",
     "text": [
      "\r",
      "Analyzing:   0%|          | 0/1 [00:00<?, ?it/s]"
     ]
    },
    {
     "name": "stdout",
     "output_type": "stream",
     "text": [
      "Already built model is passed\n",
      "WARNING: Representations for images in  ./database/  folder were previously stored in  representations_vgg_model.pkl . If you added new instances after this file creation, then please delete this file and call find function again. It will create it again.\n",
      "There are  5  representations found in  representations_vgg_model.pkl\n"
     ]
    },
    {
     "name": "stderr",
     "output_type": "stream",
     "text": [
      "Analyzing: 100%|██████████| 1/1 [00:00<00:00,  3.33it/s]\n",
      "Analyzing:   0%|          | 0/1 [00:00<?, ?it/s]"
     ]
    },
    {
     "name": "stdout",
     "output_type": "stream",
     "text": [
      "find function lasts  0.30588269233703613  seconds\n",
      "./database/Zirong Yu/front_nomask.jpg\n",
      "./database/Zirong Yu\n",
      "Already built model is passed\n",
      "WARNING: Representations for images in  ./database/  folder were previously stored in  representations_vgg_model.pkl . If you added new instances after this file creation, then please delete this file and call find function again. It will create it again.\n",
      "There are  5  representations found in  representations_vgg_model.pkl\n"
     ]
    },
    {
     "name": "stderr",
     "output_type": "stream",
     "text": [
      "Analyzing: 100%|██████████| 1/1 [00:00<00:00,  2.94it/s]\n"
     ]
    },
    {
     "name": "stdout",
     "output_type": "stream",
     "text": [
      "find function lasts  0.3438549041748047  seconds\n",
      "./database/Zirong Yu/front_nomask.jpg\n",
      "./database/Zirong Yu\n"
     ]
    },
    {
     "name": "stderr",
     "output_type": "stream",
     "text": [
      "\r",
      "Analyzing:   0%|          | 0/1 [00:00<?, ?it/s]"
     ]
    },
    {
     "name": "stdout",
     "output_type": "stream",
     "text": [
      "Already built model is passed\n",
      "WARNING: Representations for images in  ./database/  folder were previously stored in  representations_vgg_model.pkl . If you added new instances after this file creation, then please delete this file and call find function again. It will create it again.\n",
      "There are  5  representations found in  representations_vgg_model.pkl\n"
     ]
    },
    {
     "name": "stderr",
     "output_type": "stream",
     "text": [
      "Analyzing: 100%|██████████| 1/1 [00:00<00:00,  2.68it/s]\n"
     ]
    },
    {
     "name": "stdout",
     "output_type": "stream",
     "text": [
      "find function lasts  0.3770160675048828  seconds\n",
      "./database/Zirong Yu/front_nomask.jpg\n",
      "./database/Zirong Yu\n"
     ]
    },
    {
     "name": "stderr",
     "output_type": "stream",
     "text": [
      "\r",
      "Analyzing:   0%|          | 0/1 [00:00<?, ?it/s]"
     ]
    },
    {
     "name": "stdout",
     "output_type": "stream",
     "text": [
      "Already built model is passed\n",
      "WARNING: Representations for images in  ./database/  folder were previously stored in  representations_vgg_model.pkl . If you added new instances after this file creation, then please delete this file and call find function again. It will create it again.\n",
      "There are  5  representations found in  representations_vgg_model.pkl\n"
     ]
    },
    {
     "name": "stderr",
     "output_type": "stream",
     "text": [
      "Analyzing: 100%|██████████| 1/1 [00:00<00:00,  2.44it/s]\n"
     ]
    },
    {
     "name": "stdout",
     "output_type": "stream",
     "text": [
      "find function lasts  0.41947221755981445  seconds\n",
      "./database/Zirong Yu/front_nomask.jpg\n",
      "./database/Zirong Yu\n"
     ]
    },
    {
     "name": "stderr",
     "output_type": "stream",
     "text": [
      "\r",
      "Analyzing:   0%|          | 0/1 [00:00<?, ?it/s]"
     ]
    },
    {
     "name": "stdout",
     "output_type": "stream",
     "text": [
      "Already built model is passed\n",
      "WARNING: Representations for images in  ./database/  folder were previously stored in  representations_vgg_model.pkl . If you added new instances after this file creation, then please delete this file and call find function again. It will create it again.\n",
      "There are  5  representations found in  representations_vgg_model.pkl\n"
     ]
    },
    {
     "name": "stderr",
     "output_type": "stream",
     "text": [
      "Analyzing: 100%|██████████| 1/1 [00:00<00:00,  2.55it/s]\n"
     ]
    },
    {
     "name": "stdout",
     "output_type": "stream",
     "text": [
      "find function lasts  0.40076279640197754  seconds\n",
      "./database/Zirong Yu/front_nomask.jpg\n",
      "./database/Zirong Yu\n"
     ]
    },
    {
     "name": "stderr",
     "output_type": "stream",
     "text": [
      "\r",
      "Analyzing:   0%|          | 0/1 [00:00<?, ?it/s]"
     ]
    },
    {
     "name": "stdout",
     "output_type": "stream",
     "text": [
      "Already built model is passed\n",
      "WARNING: Representations for images in  ./database/  folder were previously stored in  representations_vgg_model.pkl . If you added new instances after this file creation, then please delete this file and call find function again. It will create it again.\n",
      "There are  5  representations found in  representations_vgg_model.pkl\n"
     ]
    },
    {
     "name": "stderr",
     "output_type": "stream",
     "text": [
      "Analyzing: 100%|██████████| 1/1 [00:00<00:00,  2.42it/s]\n",
      "Analyzing:   0%|          | 0/1 [00:00<?, ?it/s]"
     ]
    },
    {
     "name": "stdout",
     "output_type": "stream",
     "text": [
      "find function lasts  0.4190409183502197  seconds\n",
      "./database/Zirong Yu/front_nomask.jpg\n",
      "./database/Zirong Yu\n",
      "Already built model is passed\n",
      "WARNING: Representations for images in  ./database/  folder were previously stored in  representations_vgg_model.pkl . If you added new instances after this file creation, then please delete this file and call find function again. It will create it again.\n",
      "There are  5  representations found in  representations_vgg_model.pkl\n"
     ]
    },
    {
     "name": "stderr",
     "output_type": "stream",
     "text": [
      "Analyzing: 100%|██████████| 1/1 [00:00<00:00,  2.61it/s]\n",
      "Analyzing:   0%|          | 0/1 [00:00<?, ?it/s]"
     ]
    },
    {
     "name": "stdout",
     "output_type": "stream",
     "text": [
      "find function lasts  0.3884470462799072  seconds\n",
      "./database/Zirong Yu/front_nomask.jpg\n",
      "./database/Zirong Yu\n",
      "Already built model is passed\n",
      "WARNING: Representations for images in  ./database/  folder were previously stored in  representations_vgg_model.pkl . If you added new instances after this file creation, then please delete this file and call find function again. It will create it again.\n",
      "There are  5  representations found in  representations_vgg_model.pkl\n"
     ]
    },
    {
     "name": "stderr",
     "output_type": "stream",
     "text": [
      "Analyzing: 100%|██████████| 1/1 [00:00<00:00,  2.99it/s]\n",
      "Analyzing:   0%|          | 0/1 [00:00<?, ?it/s]"
     ]
    },
    {
     "name": "stdout",
     "output_type": "stream",
     "text": [
      "find function lasts  0.3397989273071289  seconds\n",
      "./database/Zirong Yu/front_nomask.jpg\n",
      "./database/Zirong Yu\n",
      "Already built model is passed\n",
      "WARNING: Representations for images in  ./database/  folder were previously stored in  representations_vgg_model.pkl . If you added new instances after this file creation, then please delete this file and call find function again. It will create it again.\n",
      "There are  5  representations found in  representations_vgg_model.pkl\n"
     ]
    },
    {
     "name": "stderr",
     "output_type": "stream",
     "text": [
      "Analyzing: 100%|██████████| 1/1 [00:00<00:00,  3.53it/s]\n",
      "Analyzing:   0%|          | 0/1 [00:00<?, ?it/s]"
     ]
    },
    {
     "name": "stdout",
     "output_type": "stream",
     "text": [
      "find function lasts  0.2862260341644287  seconds\n",
      "./database/Zirong Yu/front_nomask.jpg\n",
      "./database/Zirong Yu\n",
      "Already built model is passed\n",
      "WARNING: Representations for images in  ./database/  folder were previously stored in  representations_vgg_model.pkl . If you added new instances after this file creation, then please delete this file and call find function again. It will create it again.\n",
      "There are  5  representations found in  representations_vgg_model.pkl\n"
     ]
    },
    {
     "name": "stderr",
     "output_type": "stream",
     "text": [
      "Analyzing: 100%|██████████| 1/1 [00:00<00:00,  3.29it/s]\n",
      "Analyzing:   0%|          | 0/1 [00:00<?, ?it/s]"
     ]
    },
    {
     "name": "stdout",
     "output_type": "stream",
     "text": [
      "find function lasts  0.30721521377563477  seconds\n",
      "./database/Zirong Yu/front_nomask.jpg\n",
      "./database/Zirong Yu\n",
      "Already built model is passed\n",
      "WARNING: Representations for images in  ./database/  folder were previously stored in  representations_vgg_model.pkl . If you added new instances after this file creation, then please delete this file and call find function again. It will create it again.\n",
      "There are  5  representations found in  representations_vgg_model.pkl\n"
     ]
    },
    {
     "name": "stderr",
     "output_type": "stream",
     "text": [
      "Analyzing: 100%|██████████| 1/1 [00:00<00:00,  3.18it/s]\n",
      "Analyzing:   0%|          | 0/1 [00:00<?, ?it/s]"
     ]
    },
    {
     "name": "stdout",
     "output_type": "stream",
     "text": [
      "find function lasts  0.3182220458984375  seconds\n",
      "./database/Zirong Yu/1606259394031.jpg\n",
      "./database/Zirong Yu\n",
      "Already built model is passed\n",
      "WARNING: Representations for images in  ./database/  folder were previously stored in  representations_vgg_model.pkl . If you added new instances after this file creation, then please delete this file and call find function again. It will create it again.\n",
      "There are  5  representations found in  representations_vgg_model.pkl\n"
     ]
    },
    {
     "name": "stderr",
     "output_type": "stream",
     "text": [
      "Analyzing: 100%|██████████| 1/1 [00:00<00:00,  3.39it/s]\n",
      "Analyzing:   0%|          | 0/1 [00:00<?, ?it/s]"
     ]
    },
    {
     "name": "stdout",
     "output_type": "stream",
     "text": [
      "find function lasts  0.2978978157043457  seconds\n",
      "./database/Zirong Yu/front_nomask.jpg\n",
      "./database/Zirong Yu\n",
      "Already built model is passed\n",
      "WARNING: Representations for images in  ./database/  folder were previously stored in  representations_vgg_model.pkl . If you added new instances after this file creation, then please delete this file and call find function again. It will create it again.\n",
      "There are  5  representations found in  representations_vgg_model.pkl\n"
     ]
    },
    {
     "name": "stderr",
     "output_type": "stream",
     "text": [
      "Analyzing: 100%|██████████| 1/1 [00:00<00:00,  3.02it/s]\n",
      "Analyzing:   0%|          | 0/1 [00:00<?, ?it/s]"
     ]
    },
    {
     "name": "stdout",
     "output_type": "stream",
     "text": [
      "find function lasts  0.3341376781463623  seconds\n",
      "./database/Zirong Yu/1606259394031.jpg\n",
      "./database/Zirong Yu\n",
      "Already built model is passed\n",
      "WARNING: Representations for images in  ./database/  folder were previously stored in  representations_vgg_model.pkl . If you added new instances after this file creation, then please delete this file and call find function again. It will create it again.\n",
      "There are  5  representations found in  representations_vgg_model.pkl\n"
     ]
    },
    {
     "name": "stderr",
     "output_type": "stream",
     "text": [
      "Analyzing: 100%|██████████| 1/1 [00:00<00:00,  3.23it/s]\n",
      "Analyzing:   0%|          | 0/1 [00:00<?, ?it/s]"
     ]
    },
    {
     "name": "stdout",
     "output_type": "stream",
     "text": [
      "find function lasts  0.31374621391296387  seconds\n",
      "./database/Zirong Yu/1606259394031.jpg\n",
      "./database/Zirong Yu\n",
      "Already built model is passed\n",
      "WARNING: Representations for images in  ./database/  folder were previously stored in  representations_vgg_model.pkl . If you added new instances after this file creation, then please delete this file and call find function again. It will create it again.\n",
      "There are  5  representations found in  representations_vgg_model.pkl\n"
     ]
    },
    {
     "name": "stderr",
     "output_type": "stream",
     "text": [
      "Analyzing: 100%|██████████| 1/1 [00:00<00:00,  3.23it/s]\n",
      "Analyzing:   0%|          | 0/1 [00:00<?, ?it/s]"
     ]
    },
    {
     "name": "stdout",
     "output_type": "stream",
     "text": [
      "find function lasts  0.31281089782714844  seconds\n",
      "./database/Zirong Yu/front_nomask.jpg\n",
      "./database/Zirong Yu\n",
      "Already built model is passed\n",
      "WARNING: Representations for images in  ./database/  folder were previously stored in  representations_vgg_model.pkl . If you added new instances after this file creation, then please delete this file and call find function again. It will create it again.\n",
      "There are  5  representations found in  representations_vgg_model.pkl\n"
     ]
    },
    {
     "name": "stderr",
     "output_type": "stream",
     "text": [
      "Analyzing: 100%|██████████| 1/1 [00:00<00:00,  3.25it/s]\n",
      "Analyzing:   0%|          | 0/1 [00:00<?, ?it/s]"
     ]
    },
    {
     "name": "stdout",
     "output_type": "stream",
     "text": [
      "find function lasts  0.3108181953430176  seconds\n",
      "./database/Zirong Yu/front_nomask.jpg\n",
      "./database/Zirong Yu\n",
      "Already built model is passed\n",
      "WARNING: Representations for images in  ./database/  folder were previously stored in  representations_vgg_model.pkl . If you added new instances after this file creation, then please delete this file and call find function again. It will create it again.\n",
      "There are  5  representations found in  representations_vgg_model.pkl\n"
     ]
    },
    {
     "name": "stderr",
     "output_type": "stream",
     "text": [
      "Analyzing: 100%|██████████| 1/1 [00:00<00:00,  3.28it/s]\n",
      "Analyzing:   0%|          | 0/1 [00:00<?, ?it/s]"
     ]
    },
    {
     "name": "stdout",
     "output_type": "stream",
     "text": [
      "find function lasts  0.3079838752746582  seconds\n",
      "./database/Zirong Yu/front_nomask.jpg\n",
      "./database/Zirong Yu\n",
      "Already built model is passed\n",
      "WARNING: Representations for images in  ./database/  folder were previously stored in  representations_vgg_model.pkl . If you added new instances after this file creation, then please delete this file and call find function again. It will create it again.\n",
      "There are  5  representations found in  representations_vgg_model.pkl\n"
     ]
    },
    {
     "name": "stderr",
     "output_type": "stream",
     "text": [
      "Analyzing: 100%|██████████| 1/1 [00:00<00:00,  3.15it/s]\n"
     ]
    },
    {
     "name": "stdout",
     "output_type": "stream",
     "text": [
      "find function lasts  0.32150697708129883  seconds\n",
      "./database/Zirong Yu/front_nomask.jpg\n",
      "./database/Zirong Yu\n"
     ]
    },
    {
     "name": "stderr",
     "output_type": "stream",
     "text": [
      "\r",
      "Analyzing:   0%|          | 0/1 [00:00<?, ?it/s]"
     ]
    },
    {
     "name": "stdout",
     "output_type": "stream",
     "text": [
      "Already built model is passed\n",
      "WARNING: Representations for images in  ./database/  folder were previously stored in  representations_vgg_model.pkl . If you added new instances after this file creation, then please delete this file and call find function again. It will create it again.\n",
      "There are  5  representations found in  representations_vgg_model.pkl\n"
     ]
    },
    {
     "name": "stderr",
     "output_type": "stream",
     "text": [
      "Analyzing: 100%|██████████| 1/1 [00:00<00:00,  2.30it/s]\n"
     ]
    },
    {
     "name": "stdout",
     "output_type": "stream",
     "text": [
      "find function lasts  0.4405539035797119  seconds\n",
      "./database/Zirong Yu/front_nomask.jpg\n",
      "./database/Zirong Yu\n"
     ]
    },
    {
     "name": "stderr",
     "output_type": "stream",
     "text": [
      "\r",
      "Analyzing:   0%|          | 0/1 [00:00<?, ?it/s]"
     ]
    },
    {
     "name": "stdout",
     "output_type": "stream",
     "text": [
      "Already built model is passed\n",
      "WARNING: Representations for images in  ./database/  folder were previously stored in  representations_vgg_model.pkl . If you added new instances after this file creation, then please delete this file and call find function again. It will create it again.\n",
      "There are  5  representations found in  representations_vgg_model.pkl\n"
     ]
    },
    {
     "name": "stderr",
     "output_type": "stream",
     "text": [
      "Analyzing: 100%|██████████| 1/1 [00:00<00:00,  2.43it/s]\n"
     ]
    },
    {
     "name": "stdout",
     "output_type": "stream",
     "text": [
      "find function lasts  0.4190859794616699  seconds\n",
      "./database/Zirong Yu/front_nomask.jpg\n",
      "./database/Zirong Yu\n"
     ]
    },
    {
     "name": "stderr",
     "output_type": "stream",
     "text": [
      "\r",
      "Analyzing:   0%|          | 0/1 [00:00<?, ?it/s]"
     ]
    },
    {
     "name": "stdout",
     "output_type": "stream",
     "text": [
      "Already built model is passed\n",
      "WARNING: Representations for images in  ./database/  folder were previously stored in  representations_vgg_model.pkl . If you added new instances after this file creation, then please delete this file and call find function again. It will create it again.\n",
      "There are  5  representations found in  representations_vgg_model.pkl\n"
     ]
    },
    {
     "name": "stderr",
     "output_type": "stream",
     "text": [
      "Analyzing: 100%|██████████| 1/1 [00:00<00:00,  2.42it/s]\n"
     ]
    },
    {
     "name": "stdout",
     "output_type": "stream",
     "text": [
      "find function lasts  0.4170041084289551  seconds\n",
      "./database/Zirong Yu/front_nomask.jpg\n",
      "./database/Zirong Yu\n"
     ]
    },
    {
     "name": "stderr",
     "output_type": "stream",
     "text": [
      "\r",
      "Analyzing:   0%|          | 0/1 [00:00<?, ?it/s]"
     ]
    },
    {
     "name": "stdout",
     "output_type": "stream",
     "text": [
      "Already built model is passed\n",
      "WARNING: Representations for images in  ./database/  folder were previously stored in  representations_vgg_model.pkl . If you added new instances after this file creation, then please delete this file and call find function again. It will create it again.\n",
      "There are  5  representations found in  representations_vgg_model.pkl\n"
     ]
    },
    {
     "name": "stderr",
     "output_type": "stream",
     "text": [
      "Analyzing: 100%|██████████| 1/1 [00:00<00:00,  2.33it/s]\n"
     ]
    },
    {
     "name": "stdout",
     "output_type": "stream",
     "text": [
      "find function lasts  0.43405890464782715  seconds\n",
      "./database/Zirong Yu/front_nomask.jpg\n",
      "./database/Zirong Yu\n"
     ]
    },
    {
     "name": "stderr",
     "output_type": "stream",
     "text": [
      "\r",
      "Analyzing:   0%|          | 0/1 [00:00<?, ?it/s]"
     ]
    },
    {
     "name": "stdout",
     "output_type": "stream",
     "text": [
      "Already built model is passed\n",
      "WARNING: Representations for images in  ./database/  folder were previously stored in  representations_vgg_model.pkl . If you added new instances after this file creation, then please delete this file and call find function again. It will create it again.\n",
      "There are  5  representations found in  representations_vgg_model.pkl\n"
     ]
    },
    {
     "name": "stderr",
     "output_type": "stream",
     "text": [
      "Analyzing: 100%|██████████| 1/1 [00:00<00:00,  2.35it/s]\n"
     ]
    },
    {
     "name": "stdout",
     "output_type": "stream",
     "text": [
      "find function lasts  0.43390798568725586  seconds\n",
      "./database/Zirong Yu/front_nomask.jpg\n",
      "./database/Zirong Yu\n"
     ]
    },
    {
     "name": "stderr",
     "output_type": "stream",
     "text": [
      "\r",
      "Analyzing:   0%|          | 0/1 [00:00<?, ?it/s]"
     ]
    },
    {
     "name": "stdout",
     "output_type": "stream",
     "text": [
      "Already built model is passed\n",
      "WARNING: Representations for images in  ./database/  folder were previously stored in  representations_vgg_model.pkl . If you added new instances after this file creation, then please delete this file and call find function again. It will create it again.\n",
      "There are  5  representations found in  representations_vgg_model.pkl\n"
     ]
    },
    {
     "name": "stderr",
     "output_type": "stream",
     "text": [
      "Analyzing: 100%|██████████| 1/1 [00:00<00:00,  2.62it/s]\n",
      "Analyzing:   0%|          | 0/1 [00:00<?, ?it/s]"
     ]
    },
    {
     "name": "stdout",
     "output_type": "stream",
     "text": [
      "find function lasts  0.38721203804016113  seconds\n",
      "./database/Zirong Yu/front_nomask.jpg\n",
      "./database/Zirong Yu\n",
      "Already built model is passed\n",
      "WARNING: Representations for images in  ./database/  folder were previously stored in  representations_vgg_model.pkl . If you added new instances after this file creation, then please delete this file and call find function again. It will create it again.\n",
      "There are  5  representations found in  representations_vgg_model.pkl\n"
     ]
    },
    {
     "name": "stderr",
     "output_type": "stream",
     "text": [
      "Analyzing: 100%|██████████| 1/1 [00:00<00:00,  3.35it/s]\n",
      "Analyzing:   0%|          | 0/1 [00:00<?, ?it/s]"
     ]
    },
    {
     "name": "stdout",
     "output_type": "stream",
     "text": [
      "find function lasts  0.3027501106262207  seconds\n",
      "./database/Zirong Yu/front_nomask.jpg\n",
      "./database/Zirong Yu\n",
      "Already built model is passed\n",
      "WARNING: Representations for images in  ./database/  folder were previously stored in  representations_vgg_model.pkl . If you added new instances after this file creation, then please delete this file and call find function again. It will create it again.\n",
      "There are  5  representations found in  representations_vgg_model.pkl\n"
     ]
    },
    {
     "name": "stderr",
     "output_type": "stream",
     "text": [
      "Analyzing: 100%|██████████| 1/1 [00:00<00:00,  3.44it/s]\n",
      "Analyzing:   0%|          | 0/1 [00:00<?, ?it/s]"
     ]
    },
    {
     "name": "stdout",
     "output_type": "stream",
     "text": [
      "find function lasts  0.2937328815460205  seconds\n",
      "./database/Zirong Yu/front_nomask.jpg\n",
      "./database/Zirong Yu\n",
      "Already built model is passed\n",
      "WARNING: Representations for images in  ./database/  folder were previously stored in  representations_vgg_model.pkl . If you added new instances after this file creation, then please delete this file and call find function again. It will create it again.\n",
      "There are  5  representations found in  representations_vgg_model.pkl\n"
     ]
    },
    {
     "name": "stderr",
     "output_type": "stream",
     "text": [
      "Analyzing: 100%|██████████| 1/1 [00:00<00:00,  3.36it/s]\n",
      "Analyzing:   0%|          | 0/1 [00:00<?, ?it/s]"
     ]
    },
    {
     "name": "stdout",
     "output_type": "stream",
     "text": [
      "find function lasts  0.3005208969116211  seconds\n",
      "./database/Zirong Yu/front_nomask.jpg\n",
      "./database/Zirong Yu\n",
      "Already built model is passed\n",
      "WARNING: Representations for images in  ./database/  folder were previously stored in  representations_vgg_model.pkl . If you added new instances after this file creation, then please delete this file and call find function again. It will create it again.\n",
      "There are  5  representations found in  representations_vgg_model.pkl\n"
     ]
    },
    {
     "name": "stderr",
     "output_type": "stream",
     "text": [
      "Analyzing: 100%|██████████| 1/1 [00:00<00:00,  3.46it/s]\n",
      "Analyzing:   0%|          | 0/1 [00:00<?, ?it/s]"
     ]
    },
    {
     "name": "stdout",
     "output_type": "stream",
     "text": [
      "find function lasts  0.2926499843597412  seconds\n",
      "./database/Zirong Yu/front_nomask.jpg\n",
      "./database/Zirong Yu\n",
      "Already built model is passed\n",
      "WARNING: Representations for images in  ./database/  folder were previously stored in  representations_vgg_model.pkl . If you added new instances after this file creation, then please delete this file and call find function again. It will create it again.\n",
      "There are  5  representations found in  representations_vgg_model.pkl\n"
     ]
    },
    {
     "name": "stderr",
     "output_type": "stream",
     "text": [
      "Analyzing: 100%|██████████| 1/1 [00:00<00:00,  3.31it/s]\n",
      "Analyzing:   0%|          | 0/1 [00:00<?, ?it/s]"
     ]
    },
    {
     "name": "stdout",
     "output_type": "stream",
     "text": [
      "find function lasts  0.306229829788208  seconds\n",
      "./database/Zirong Yu/1606259394031.jpg\n",
      "./database/Zirong Yu\n",
      "Already built model is passed\n",
      "WARNING: Representations for images in  ./database/  folder were previously stored in  representations_vgg_model.pkl . If you added new instances after this file creation, then please delete this file and call find function again. It will create it again.\n",
      "There are  5  representations found in  representations_vgg_model.pkl\n"
     ]
    },
    {
     "name": "stderr",
     "output_type": "stream",
     "text": [
      "Analyzing: 100%|██████████| 1/1 [00:00<00:00,  2.60it/s]\n"
     ]
    },
    {
     "name": "stdout",
     "output_type": "stream",
     "text": [
      "find function lasts  0.3887360095977783  seconds\n",
      "./database/Zirong Yu/front_nomask.jpg\n",
      "./database/Zirong Yu\n"
     ]
    },
    {
     "name": "stderr",
     "output_type": "stream",
     "text": [
      "\r",
      "Analyzing:   0%|          | 0/1 [00:00<?, ?it/s]"
     ]
    },
    {
     "name": "stdout",
     "output_type": "stream",
     "text": [
      "Already built model is passed\n",
      "WARNING: Representations for images in  ./database/  folder were previously stored in  representations_vgg_model.pkl . If you added new instances after this file creation, then please delete this file and call find function again. It will create it again.\n",
      "There are  5  representations found in  representations_vgg_model.pkl\n"
     ]
    },
    {
     "name": "stderr",
     "output_type": "stream",
     "text": [
      "Analyzing: 100%|██████████| 1/1 [00:00<00:00,  3.05it/s]\n",
      "Analyzing:   0%|          | 0/1 [00:00<?, ?it/s]"
     ]
    },
    {
     "name": "stdout",
     "output_type": "stream",
     "text": [
      "find function lasts  0.3303508758544922  seconds\n",
      "./database/Zirong Yu/front_nomask.jpg\n",
      "./database/Zirong Yu\n",
      "Already built model is passed\n",
      "WARNING: Representations for images in  ./database/  folder were previously stored in  representations_vgg_model.pkl . If you added new instances after this file creation, then please delete this file and call find function again. It will create it again.\n",
      "There are  5  representations found in  representations_vgg_model.pkl\n"
     ]
    },
    {
     "name": "stderr",
     "output_type": "stream",
     "text": [
      "Analyzing: 100%|██████████| 1/1 [00:00<00:00,  2.90it/s]\n",
      "Analyzing:   0%|          | 0/1 [00:00<?, ?it/s]"
     ]
    },
    {
     "name": "stdout",
     "output_type": "stream",
     "text": [
      "find function lasts  0.3511166572570801  seconds\n",
      "./database/Zirong Yu/front_nomask.jpg\n",
      "./database/Zirong Yu\n",
      "Already built model is passed\n",
      "WARNING: Representations for images in  ./database/  folder were previously stored in  representations_vgg_model.pkl . If you added new instances after this file creation, then please delete this file and call find function again. It will create it again.\n",
      "There are  5  representations found in  representations_vgg_model.pkl\n"
     ]
    },
    {
     "name": "stderr",
     "output_type": "stream",
     "text": [
      "Analyzing: 100%|██████████| 1/1 [00:00<00:00,  3.50it/s]\n",
      "Analyzing:   0%|          | 0/1 [00:00<?, ?it/s]"
     ]
    },
    {
     "name": "stdout",
     "output_type": "stream",
     "text": [
      "find function lasts  0.28985095024108887  seconds\n",
      "./database/Zirong Yu/front_nomask.jpg\n",
      "./database/Zirong Yu\n",
      "Already built model is passed\n",
      "WARNING: Representations for images in  ./database/  folder were previously stored in  representations_vgg_model.pkl . If you added new instances after this file creation, then please delete this file and call find function again. It will create it again.\n",
      "There are  5  representations found in  representations_vgg_model.pkl\n"
     ]
    },
    {
     "name": "stderr",
     "output_type": "stream",
     "text": [
      "Analyzing: 100%|██████████| 1/1 [00:00<00:00,  3.31it/s]\n"
     ]
    },
    {
     "name": "stdout",
     "output_type": "stream",
     "text": [
      "find function lasts  0.30669379234313965  seconds\n",
      "./database/Zirong Yu/1606259394031.jpg\n",
      "./database/Zirong Yu\n"
     ]
    },
    {
     "name": "stderr",
     "output_type": "stream",
     "text": [
      "\r",
      "Analyzing:   0%|          | 0/1 [00:00<?, ?it/s]"
     ]
    },
    {
     "name": "stdout",
     "output_type": "stream",
     "text": [
      "Already built model is passed\n",
      "WARNING: Representations for images in  ./database/  folder were previously stored in  representations_vgg_model.pkl . If you added new instances after this file creation, then please delete this file and call find function again. It will create it again.\n",
      "There are  5  representations found in  representations_vgg_model.pkl\n"
     ]
    },
    {
     "name": "stderr",
     "output_type": "stream",
     "text": [
      "Analyzing: 100%|██████████| 1/1 [00:00<00:00,  2.84it/s]\n"
     ]
    },
    {
     "name": "stdout",
     "output_type": "stream",
     "text": [
      "find function lasts  0.35753297805786133  seconds\n",
      "./database/Zirong Yu/front_nomask.jpg\n",
      "./database/Zirong Yu\n"
     ]
    },
    {
     "name": "stderr",
     "output_type": "stream",
     "text": [
      "\r",
      "Analyzing:   0%|          | 0/1 [00:00<?, ?it/s]"
     ]
    },
    {
     "name": "stdout",
     "output_type": "stream",
     "text": [
      "Already built model is passed\n",
      "WARNING: Representations for images in  ./database/  folder were previously stored in  representations_vgg_model.pkl . If you added new instances after this file creation, then please delete this file and call find function again. It will create it again.\n",
      "There are  5  representations found in  representations_vgg_model.pkl\n"
     ]
    },
    {
     "name": "stderr",
     "output_type": "stream",
     "text": [
      "Analyzing: 100%|██████████| 1/1 [00:00<00:00,  1.49it/s]\n"
     ]
    },
    {
     "name": "stdout",
     "output_type": "stream",
     "text": [
      "find function lasts  0.6771409511566162  seconds\n",
      "./database/Zirong Yu/1606259394031.jpg\n",
      "./database/Zirong Yu\n"
     ]
    },
    {
     "name": "stderr",
     "output_type": "stream",
     "text": [
      "\r",
      "Analyzing:   0%|          | 0/1 [00:00<?, ?it/s]"
     ]
    },
    {
     "name": "stdout",
     "output_type": "stream",
     "text": [
      "Already built model is passed\n",
      "WARNING: Representations for images in  ./database/  folder were previously stored in  representations_vgg_model.pkl . If you added new instances after this file creation, then please delete this file and call find function again. It will create it again.\n",
      "There are  5  representations found in  representations_vgg_model.pkl\n"
     ]
    },
    {
     "name": "stderr",
     "output_type": "stream",
     "text": [
      "Analyzing: 100%|██████████| 1/1 [00:00<00:00,  3.33it/s]\n",
      "Analyzing:   0%|          | 0/1 [00:00<?, ?it/s]"
     ]
    },
    {
     "name": "stdout",
     "output_type": "stream",
     "text": [
      "find function lasts  0.30560994148254395  seconds\n",
      "./database/Zirong Yu/front_nomask.jpg\n",
      "./database/Zirong Yu\n",
      "Already built model is passed\n",
      "WARNING: Representations for images in  ./database/  folder were previously stored in  representations_vgg_model.pkl . If you added new instances after this file creation, then please delete this file and call find function again. It will create it again.\n",
      "There are  5  representations found in  representations_vgg_model.pkl\n"
     ]
    },
    {
     "name": "stderr",
     "output_type": "stream",
     "text": [
      "Analyzing: 100%|██████████| 1/1 [00:00<00:00,  3.36it/s]\n",
      "Analyzing:   0%|          | 0/1 [00:00<?, ?it/s]"
     ]
    },
    {
     "name": "stdout",
     "output_type": "stream",
     "text": [
      "find function lasts  0.3010258674621582  seconds\n",
      "./database/Zirong Yu/front_nomask.jpg\n",
      "./database/Zirong Yu\n",
      "Already built model is passed\n",
      "WARNING: Representations for images in  ./database/  folder were previously stored in  representations_vgg_model.pkl . If you added new instances after this file creation, then please delete this file and call find function again. It will create it again.\n",
      "There are  5  representations found in  representations_vgg_model.pkl\n"
     ]
    },
    {
     "name": "stderr",
     "output_type": "stream",
     "text": [
      "Analyzing: 100%|██████████| 1/1 [00:00<00:00,  3.41it/s]\n",
      "Analyzing:   0%|          | 0/1 [00:00<?, ?it/s]"
     ]
    },
    {
     "name": "stdout",
     "output_type": "stream",
     "text": [
      "find function lasts  0.2963120937347412  seconds\n",
      "./database/Zirong Yu/front_nomask.jpg\n",
      "./database/Zirong Yu\n",
      "Already built model is passed\n",
      "WARNING: Representations for images in  ./database/  folder were previously stored in  representations_vgg_model.pkl . If you added new instances after this file creation, then please delete this file and call find function again. It will create it again.\n",
      "There are  5  representations found in  representations_vgg_model.pkl\n"
     ]
    },
    {
     "name": "stderr",
     "output_type": "stream",
     "text": [
      "Analyzing: 100%|██████████| 1/1 [00:00<00:00,  3.43it/s]\n",
      "Analyzing:   0%|          | 0/1 [00:00<?, ?it/s]"
     ]
    },
    {
     "name": "stdout",
     "output_type": "stream",
     "text": [
      "find function lasts  0.295443058013916  seconds\n",
      "./database/Zirong Yu/front_nomask.jpg\n",
      "./database/Zirong Yu\n",
      "Already built model is passed\n",
      "WARNING: Representations for images in  ./database/  folder were previously stored in  representations_vgg_model.pkl . If you added new instances after this file creation, then please delete this file and call find function again. It will create it again.\n",
      "There are  5  representations found in  representations_vgg_model.pkl\n"
     ]
    },
    {
     "name": "stderr",
     "output_type": "stream",
     "text": [
      "Analyzing: 100%|██████████| 1/1 [00:00<00:00,  3.18it/s]\n",
      "Analyzing:   0%|          | 0/1 [00:00<?, ?it/s]"
     ]
    },
    {
     "name": "stdout",
     "output_type": "stream",
     "text": [
      "find function lasts  0.3182048797607422  seconds\n",
      "./database/Zirong Yu/front_nomask.jpg\n",
      "./database/Zirong Yu\n",
      "Already built model is passed\n",
      "WARNING: Representations for images in  ./database/  folder were previously stored in  representations_vgg_model.pkl . If you added new instances after this file creation, then please delete this file and call find function again. It will create it again.\n",
      "There are  5  representations found in  representations_vgg_model.pkl\n"
     ]
    },
    {
     "name": "stderr",
     "output_type": "stream",
     "text": [
      "Analyzing: 100%|██████████| 1/1 [00:00<00:00,  3.23it/s]\n",
      "Analyzing:   0%|          | 0/1 [00:00<?, ?it/s]"
     ]
    },
    {
     "name": "stdout",
     "output_type": "stream",
     "text": [
      "find function lasts  0.31505274772644043  seconds\n",
      "./database/Zirong Yu/front_nomask.jpg\n",
      "./database/Zirong Yu\n",
      "Already built model is passed\n",
      "WARNING: Representations for images in  ./database/  folder were previously stored in  representations_vgg_model.pkl . If you added new instances after this file creation, then please delete this file and call find function again. It will create it again.\n",
      "There are  5  representations found in  representations_vgg_model.pkl\n"
     ]
    },
    {
     "name": "stderr",
     "output_type": "stream",
     "text": [
      "Analyzing: 100%|██████████| 1/1 [00:00<00:00,  3.42it/s]\n",
      "Analyzing:   0%|          | 0/1 [00:00<?, ?it/s]"
     ]
    },
    {
     "name": "stdout",
     "output_type": "stream",
     "text": [
      "find function lasts  0.29575133323669434  seconds\n",
      "./database/Zirong Yu/front_nomask.jpg\n",
      "./database/Zirong Yu\n",
      "Already built model is passed\n",
      "WARNING: Representations for images in  ./database/  folder were previously stored in  representations_vgg_model.pkl . If you added new instances after this file creation, then please delete this file and call find function again. It will create it again.\n",
      "There are  5  representations found in  representations_vgg_model.pkl\n"
     ]
    },
    {
     "name": "stderr",
     "output_type": "stream",
     "text": [
      "Analyzing: 100%|██████████| 1/1 [00:00<00:00,  3.39it/s]\n",
      "Analyzing:   0%|          | 0/1 [00:00<?, ?it/s]"
     ]
    },
    {
     "name": "stdout",
     "output_type": "stream",
     "text": [
      "find function lasts  0.2984309196472168  seconds\n",
      "./database/Zirong Yu/front_nomask.jpg\n",
      "./database/Zirong Yu\n",
      "Already built model is passed\n",
      "WARNING: Representations for images in  ./database/  folder were previously stored in  representations_vgg_model.pkl . If you added new instances after this file creation, then please delete this file and call find function again. It will create it again.\n",
      "There are  5  representations found in  representations_vgg_model.pkl\n"
     ]
    },
    {
     "name": "stderr",
     "output_type": "stream",
     "text": [
      "Analyzing: 100%|██████████| 1/1 [00:00<00:00,  3.23it/s]\n",
      "Analyzing:   0%|          | 0/1 [00:00<?, ?it/s]"
     ]
    },
    {
     "name": "stdout",
     "output_type": "stream",
     "text": [
      "find function lasts  0.312943696975708  seconds\n",
      "./database/Zirong Yu/front_nomask.jpg\n",
      "./database/Zirong Yu\n",
      "Already built model is passed\n",
      "WARNING: Representations for images in  ./database/  folder were previously stored in  representations_vgg_model.pkl . If you added new instances after this file creation, then please delete this file and call find function again. It will create it again.\n",
      "There are  5  representations found in  representations_vgg_model.pkl\n"
     ]
    },
    {
     "name": "stderr",
     "output_type": "stream",
     "text": [
      "Analyzing: 100%|██████████| 1/1 [00:00<00:00,  3.54it/s]\n"
     ]
    },
    {
     "name": "stdout",
     "output_type": "stream",
     "text": [
      "find function lasts  0.28624796867370605  seconds\n",
      "./database/Zirong Yu/1606259394031.jpg\n",
      "./database/Zirong Yu\n"
     ]
    },
    {
     "name": "stderr",
     "output_type": "stream",
     "text": [
      "\r",
      "Analyzing:   0%|          | 0/1 [00:00<?, ?it/s]"
     ]
    },
    {
     "name": "stdout",
     "output_type": "stream",
     "text": [
      "Already built model is passed\n",
      "WARNING: Representations for images in  ./database/  folder were previously stored in  representations_vgg_model.pkl . If you added new instances after this file creation, then please delete this file and call find function again. It will create it again.\n",
      "There are  5  representations found in  representations_vgg_model.pkl\n"
     ]
    },
    {
     "name": "stderr",
     "output_type": "stream",
     "text": [
      "Analyzing: 100%|██████████| 1/1 [00:00<00:00,  3.17it/s]\n",
      "Analyzing:   0%|          | 0/1 [00:00<?, ?it/s]"
     ]
    },
    {
     "name": "stdout",
     "output_type": "stream",
     "text": [
      "find function lasts  0.3184781074523926  seconds\n",
      "./database/Zirong Yu/front_nomask.jpg\n",
      "./database/Zirong Yu\n",
      "Already built model is passed\n",
      "WARNING: Representations for images in  ./database/  folder were previously stored in  representations_vgg_model.pkl . If you added new instances after this file creation, then please delete this file and call find function again. It will create it again.\n",
      "There are  5  representations found in  representations_vgg_model.pkl\n"
     ]
    },
    {
     "name": "stderr",
     "output_type": "stream",
     "text": [
      "Analyzing: 100%|██████████| 1/1 [00:00<00:00,  3.44it/s]\n",
      "Analyzing:   0%|          | 0/1 [00:00<?, ?it/s]"
     ]
    },
    {
     "name": "stdout",
     "output_type": "stream",
     "text": [
      "find function lasts  0.29346299171447754  seconds\n",
      "./database/Zirong Yu/front_mask2.jpg\n",
      "./database/Zirong Yu\n",
      "Already built model is passed\n",
      "WARNING: Representations for images in  ./database/  folder were previously stored in  representations_vgg_model.pkl . If you added new instances after this file creation, then please delete this file and call find function again. It will create it again.\n",
      "There are  5  representations found in  representations_vgg_model.pkl\n"
     ]
    },
    {
     "name": "stderr",
     "output_type": "stream",
     "text": [
      "Analyzing: 100%|██████████| 1/1 [00:00<00:00,  3.56it/s]\n",
      "Analyzing:   0%|          | 0/1 [00:00<?, ?it/s]"
     ]
    },
    {
     "name": "stdout",
     "output_type": "stream",
     "text": [
      "find function lasts  0.2834208011627197  seconds\n",
      "./database/Zirong Yu/front_mask2.jpg\n",
      "./database/Zirong Yu\n",
      "Already built model is passed\n",
      "WARNING: Representations for images in  ./database/  folder were previously stored in  representations_vgg_model.pkl . If you added new instances after this file creation, then please delete this file and call find function again. It will create it again.\n",
      "There are  5  representations found in  representations_vgg_model.pkl\n"
     ]
    },
    {
     "name": "stderr",
     "output_type": "stream",
     "text": [
      "Analyzing: 100%|██████████| 1/1 [00:00<00:00,  3.38it/s]\n"
     ]
    },
    {
     "name": "stdout",
     "output_type": "stream",
     "text": [
      "find function lasts  0.2995889186859131  seconds\n",
      "./database/Zirong Yu/front_mask2.jpg\n",
      "./database/Zirong Yu\n"
     ]
    },
    {
     "name": "stderr",
     "output_type": "stream",
     "text": [
      "\r",
      "Analyzing:   0%|          | 0/1 [00:00<?, ?it/s]"
     ]
    },
    {
     "name": "stdout",
     "output_type": "stream",
     "text": [
      "Already built model is passed\n",
      "WARNING: Representations for images in  ./database/  folder were previously stored in  representations_vgg_model.pkl . If you added new instances after this file creation, then please delete this file and call find function again. It will create it again.\n",
      "There are  5  representations found in  representations_vgg_model.pkl\n"
     ]
    },
    {
     "name": "stderr",
     "output_type": "stream",
     "text": [
      "Analyzing: 100%|██████████| 1/1 [00:00<00:00,  3.48it/s]\n",
      "Analyzing:   0%|          | 0/1 [00:00<?, ?it/s]"
     ]
    },
    {
     "name": "stdout",
     "output_type": "stream",
     "text": [
      "find function lasts  0.2912411689758301  seconds\n",
      "./database/Zirong Yu/front_mask2.jpg\n",
      "./database/Zirong Yu\n",
      "Already built model is passed\n",
      "WARNING: Representations for images in  ./database/  folder were previously stored in  representations_vgg_model.pkl . If you added new instances after this file creation, then please delete this file and call find function again. It will create it again.\n",
      "There are  5  representations found in  representations_vgg_model.pkl\n"
     ]
    },
    {
     "name": "stderr",
     "output_type": "stream",
     "text": [
      "Analyzing: 100%|██████████| 1/1 [00:00<00:00,  3.52it/s]\n",
      "Analyzing:   0%|          | 0/1 [00:00<?, ?it/s]"
     ]
    },
    {
     "name": "stdout",
     "output_type": "stream",
     "text": [
      "find function lasts  0.28738880157470703  seconds\n",
      "./database/Zirong Yu/front_mask2.jpg\n",
      "./database/Zirong Yu\n",
      "Already built model is passed\n",
      "WARNING: Representations for images in  ./database/  folder were previously stored in  representations_vgg_model.pkl . If you added new instances after this file creation, then please delete this file and call find function again. It will create it again.\n",
      "There are  5  representations found in  representations_vgg_model.pkl\n"
     ]
    },
    {
     "name": "stderr",
     "output_type": "stream",
     "text": [
      "Analyzing: 100%|██████████| 1/1 [00:00<00:00,  3.62it/s]\n",
      "Analyzing:   0%|          | 0/1 [00:00<?, ?it/s]"
     ]
    },
    {
     "name": "stdout",
     "output_type": "stream",
     "text": [
      "find function lasts  0.28240370750427246  seconds\n",
      "./database/Zirong Yu/front_mask2.jpg\n",
      "./database/Zirong Yu\n",
      "Already built model is passed\n",
      "WARNING: Representations for images in  ./database/  folder were previously stored in  representations_vgg_model.pkl . If you added new instances after this file creation, then please delete this file and call find function again. It will create it again.\n",
      "There are  5  representations found in  representations_vgg_model.pkl\n"
     ]
    },
    {
     "name": "stderr",
     "output_type": "stream",
     "text": [
      "Analyzing: 100%|██████████| 1/1 [00:00<00:00,  3.36it/s]\n"
     ]
    },
    {
     "name": "stdout",
     "output_type": "stream",
     "text": [
      "find function lasts  0.3003840446472168  seconds\n",
      "./database/Zirong Yu/front_mask2.jpg\n",
      "./database/Zirong Yu\n"
     ]
    },
    {
     "name": "stderr",
     "output_type": "stream",
     "text": [
      "\r",
      "Analyzing:   0%|          | 0/1 [00:00<?, ?it/s]"
     ]
    },
    {
     "name": "stdout",
     "output_type": "stream",
     "text": [
      "Already built model is passed\n",
      "WARNING: Representations for images in  ./database/  folder were previously stored in  representations_vgg_model.pkl . If you added new instances after this file creation, then please delete this file and call find function again. It will create it again.\n",
      "There are  5  representations found in  representations_vgg_model.pkl\n"
     ]
    },
    {
     "name": "stderr",
     "output_type": "stream",
     "text": [
      "Analyzing: 100%|██████████| 1/1 [00:00<00:00,  2.34it/s]\n"
     ]
    },
    {
     "name": "stdout",
     "output_type": "stream",
     "text": [
      "find function lasts  0.43687987327575684  seconds\n",
      "./database/Zirong Yu/front_mask2.jpg\n",
      "./database/Zirong Yu\n"
     ]
    },
    {
     "name": "stderr",
     "output_type": "stream",
     "text": [
      "\r",
      "Analyzing:   0%|          | 0/1 [00:00<?, ?it/s]"
     ]
    },
    {
     "name": "stdout",
     "output_type": "stream",
     "text": [
      "Already built model is passed\n",
      "WARNING: Representations for images in  ./database/  folder were previously stored in  representations_vgg_model.pkl . If you added new instances after this file creation, then please delete this file and call find function again. It will create it again.\n",
      "There are  5  representations found in  representations_vgg_model.pkl\n"
     ]
    },
    {
     "name": "stderr",
     "output_type": "stream",
     "text": [
      "Analyzing: 100%|██████████| 1/1 [00:00<00:00,  2.43it/s]\n"
     ]
    },
    {
     "name": "stdout",
     "output_type": "stream",
     "text": [
      "find function lasts  0.4143040180206299  seconds\n",
      "./database/Zirong Yu/front_mask2.jpg\n",
      "./database/Zirong Yu\n"
     ]
    },
    {
     "name": "stderr",
     "output_type": "stream",
     "text": [
      "\r",
      "Analyzing:   0%|          | 0/1 [00:00<?, ?it/s]"
     ]
    },
    {
     "name": "stdout",
     "output_type": "stream",
     "text": [
      "Already built model is passed\n",
      "WARNING: Representations for images in  ./database/  folder were previously stored in  representations_vgg_model.pkl . If you added new instances after this file creation, then please delete this file and call find function again. It will create it again.\n",
      "There are  5  representations found in  representations_vgg_model.pkl\n"
     ]
    },
    {
     "name": "stderr",
     "output_type": "stream",
     "text": [
      "Analyzing: 100%|██████████| 1/1 [00:00<00:00,  2.76it/s]\n"
     ]
    },
    {
     "name": "stdout",
     "output_type": "stream",
     "text": [
      "find function lasts  0.3645951747894287  seconds\n",
      "./database/Zirong Yu/front_mask2.jpg\n",
      "./database/Zirong Yu\n"
     ]
    },
    {
     "name": "stderr",
     "output_type": "stream",
     "text": [
      "\r",
      "Analyzing:   0%|          | 0/1 [00:00<?, ?it/s]"
     ]
    },
    {
     "name": "stdout",
     "output_type": "stream",
     "text": [
      "Already built model is passed\n",
      "WARNING: Representations for images in  ./database/  folder were previously stored in  representations_vgg_model.pkl . If you added new instances after this file creation, then please delete this file and call find function again. It will create it again.\n",
      "There are  5  representations found in  representations_vgg_model.pkl\n"
     ]
    },
    {
     "name": "stderr",
     "output_type": "stream",
     "text": [
      "Analyzing: 100%|██████████| 1/1 [00:00<00:00,  2.33it/s]\n"
     ]
    },
    {
     "name": "stdout",
     "output_type": "stream",
     "text": [
      "find function lasts  0.43465614318847656  seconds\n",
      "./database/Zirong Yu/front_mask2.jpg\n",
      "./database/Zirong Yu\n"
     ]
    },
    {
     "name": "stderr",
     "output_type": "stream",
     "text": [
      "\r",
      "Analyzing:   0%|          | 0/1 [00:00<?, ?it/s]"
     ]
    },
    {
     "name": "stdout",
     "output_type": "stream",
     "text": [
      "Already built model is passed\n",
      "WARNING: Representations for images in  ./database/  folder were previously stored in  representations_vgg_model.pkl . If you added new instances after this file creation, then please delete this file and call find function again. It will create it again.\n",
      "There are  5  representations found in  representations_vgg_model.pkl\n"
     ]
    },
    {
     "name": "stderr",
     "output_type": "stream",
     "text": [
      "Analyzing: 100%|██████████| 1/1 [00:00<00:00,  2.64it/s]\n"
     ]
    },
    {
     "name": "stdout",
     "output_type": "stream",
     "text": [
      "find function lasts  0.3877899646759033  seconds\n",
      "./database/Zirong Yu/front_mask2.jpg\n",
      "./database/Zirong Yu\n"
     ]
    },
    {
     "name": "stderr",
     "output_type": "stream",
     "text": [
      "\r",
      "Analyzing:   0%|          | 0/1 [00:00<?, ?it/s]"
     ]
    },
    {
     "name": "stdout",
     "output_type": "stream",
     "text": [
      "Already built model is passed\n",
      "WARNING: Representations for images in  ./database/  folder were previously stored in  representations_vgg_model.pkl . If you added new instances after this file creation, then please delete this file and call find function again. It will create it again.\n",
      "There are  5  representations found in  representations_vgg_model.pkl\n"
     ]
    },
    {
     "name": "stderr",
     "output_type": "stream",
     "text": [
      "Analyzing: 100%|██████████| 1/1 [00:00<00:00,  3.03it/s]\n"
     ]
    },
    {
     "name": "stdout",
     "output_type": "stream",
     "text": [
      "find function lasts  0.3375999927520752  seconds\n",
      "./database/Zirong Yu/front_mask2.jpg\n",
      "./database/Zirong Yu\n"
     ]
    },
    {
     "name": "stderr",
     "output_type": "stream",
     "text": [
      "\r",
      "Analyzing:   0%|          | 0/1 [00:00<?, ?it/s]"
     ]
    },
    {
     "name": "stdout",
     "output_type": "stream",
     "text": [
      "Already built model is passed\n",
      "WARNING: Representations for images in  ./database/  folder were previously stored in  representations_vgg_model.pkl . If you added new instances after this file creation, then please delete this file and call find function again. It will create it again.\n",
      "There are  5  representations found in  representations_vgg_model.pkl\n"
     ]
    },
    {
     "name": "stderr",
     "output_type": "stream",
     "text": [
      "Analyzing: 100%|██████████| 1/1 [00:00<00:00,  2.65it/s]\n"
     ]
    },
    {
     "name": "stdout",
     "output_type": "stream",
     "text": [
      "find function lasts  0.3830089569091797  seconds\n",
      "./database/Zirong Yu/front_mask2.jpg\n",
      "./database/Zirong Yu\n"
     ]
    },
    {
     "name": "stderr",
     "output_type": "stream",
     "text": [
      "\r",
      "Analyzing:   0%|          | 0/1 [00:00<?, ?it/s]"
     ]
    },
    {
     "name": "stdout",
     "output_type": "stream",
     "text": [
      "Already built model is passed\n",
      "WARNING: Representations for images in  ./database/  folder were previously stored in  representations_vgg_model.pkl . If you added new instances after this file creation, then please delete this file and call find function again. It will create it again.\n",
      "There are  5  representations found in  representations_vgg_model.pkl\n"
     ]
    },
    {
     "name": "stderr",
     "output_type": "stream",
     "text": [
      "Analyzing: 100%|██████████| 1/1 [00:00<00:00,  1.58it/s]\n"
     ]
    },
    {
     "name": "stdout",
     "output_type": "stream",
     "text": [
      "find function lasts  0.6408438682556152  seconds\n",
      "./database/Zirong Yu/front_mask2.jpg\n",
      "./database/Zirong Yu\n"
     ]
    },
    {
     "name": "stderr",
     "output_type": "stream",
     "text": [
      "\r",
      "Analyzing:   0%|          | 0/1 [00:00<?, ?it/s]"
     ]
    },
    {
     "name": "stdout",
     "output_type": "stream",
     "text": [
      "Already built model is passed\n",
      "WARNING: Representations for images in  ./database/  folder were previously stored in  representations_vgg_model.pkl . If you added new instances after this file creation, then please delete this file and call find function again. It will create it again.\n",
      "There are  5  representations found in  representations_vgg_model.pkl\n"
     ]
    },
    {
     "name": "stderr",
     "output_type": "stream",
     "text": [
      "Analyzing: 100%|██████████| 1/1 [00:00<00:00,  2.30it/s]\n",
      "Analyzing:   0%|          | 0/1 [00:00<?, ?it/s]"
     ]
    },
    {
     "name": "stdout",
     "output_type": "stream",
     "text": [
      "find function lasts  0.4377129077911377  seconds\n",
      "./database/Zirong Yu/front_mask2.jpg\n",
      "./database/Zirong Yu\n",
      "Already built model is passed\n",
      "WARNING: Representations for images in  ./database/  folder were previously stored in  representations_vgg_model.pkl . If you added new instances after this file creation, then please delete this file and call find function again. It will create it again.\n",
      "There are  5  representations found in  representations_vgg_model.pkl\n"
     ]
    },
    {
     "name": "stderr",
     "output_type": "stream",
     "text": [
      "Analyzing: 100%|██████████| 1/1 [00:00<00:00,  3.48it/s]\n"
     ]
    },
    {
     "name": "stdout",
     "output_type": "stream",
     "text": [
      "find function lasts  0.291079044342041  seconds\n",
      "./database/Zirong Yu/front_mask2.jpg\n",
      "./database/Zirong Yu\n",
      "Already built model is passed\n",
      "WARNING: Representations for images in  ./database/  folder were previously stored in  representations_vgg_model.pkl . If you added new instances after this file creation, then please delete this file and call find function again. It will create it again.\n",
      "There are  "
     ]
    },
    {
     "name": "stderr",
     "output_type": "stream",
     "text": [
      "\r",
      "Analyzing:   0%|          | 0/1 [00:00<?, ?it/s]"
     ]
    },
    {
     "name": "stdout",
     "output_type": "stream",
     "text": [
      "5  representations found in  representations_vgg_model.pkl\n"
     ]
    },
    {
     "name": "stderr",
     "output_type": "stream",
     "text": [
      "Analyzing: 100%|██████████| 1/1 [00:00<00:00,  3.34it/s]\n"
     ]
    },
    {
     "name": "stdout",
     "output_type": "stream",
     "text": [
      "find function lasts  0.3040151596069336  seconds\n",
      "./database/Zirong Yu/front_mask2.jpg\n",
      "./database/Zirong Yu\n"
     ]
    },
    {
     "name": "stderr",
     "output_type": "stream",
     "text": [
      "\r",
      "Analyzing:   0%|          | 0/1 [00:00<?, ?it/s]"
     ]
    },
    {
     "name": "stdout",
     "output_type": "stream",
     "text": [
      "Already built model is passed\n",
      "WARNING: Representations for images in  ./database/  folder were previously stored in  representations_vgg_model.pkl . If you added new instances after this file creation, then please delete this file and call find function again. It will create it again.\n",
      "There are  5  representations found in  representations_vgg_model.pkl\n"
     ]
    },
    {
     "name": "stderr",
     "output_type": "stream",
     "text": [
      "Analyzing: 100%|██████████| 1/1 [00:00<00:00,  3.35it/s]\n",
      "Analyzing:   0%|          | 0/1 [00:00<?, ?it/s]"
     ]
    },
    {
     "name": "stdout",
     "output_type": "stream",
     "text": [
      "find function lasts  0.3026602268218994  seconds\n",
      "./database/Zirong Yu/front_mask2.jpg\n",
      "./database/Zirong Yu\n",
      "Already built model is passed\n",
      "WARNING: Representations for images in  ./database/  folder were previously stored in  representations_vgg_model.pkl . If you added new instances after this file creation, then please delete this file and call find function again. It will create it again.\n",
      "There are  5  representations found in  representations_vgg_model.pkl\n"
     ]
    },
    {
     "name": "stderr",
     "output_type": "stream",
     "text": [
      "Analyzing: 100%|██████████| 1/1 [00:00<00:00,  2.96it/s]\n",
      "Analyzing:   0%|          | 0/1 [00:00<?, ?it/s]"
     ]
    },
    {
     "name": "stdout",
     "output_type": "stream",
     "text": [
      "find function lasts  0.3405029773712158  seconds\n",
      "./database/Zirong Yu/front_mask2.jpg\n",
      "./database/Zirong Yu\n",
      "Already built model is passed\n",
      "WARNING: Representations for images in  ./database/  folder were previously stored in  representations_vgg_model.pkl . If you added new instances after this file creation, then please delete this file and call find function again. It will create it again.\n",
      "There are  5  representations found in  representations_vgg_model.pkl\n"
     ]
    },
    {
     "name": "stderr",
     "output_type": "stream",
     "text": [
      "Analyzing: 100%|██████████| 1/1 [00:00<00:00,  3.37it/s]\n",
      "Analyzing:   0%|          | 0/1 [00:00<?, ?it/s]"
     ]
    },
    {
     "name": "stdout",
     "output_type": "stream",
     "text": [
      "find function lasts  0.30019402503967285  seconds\n",
      "./database/Zirong Yu/front_mask2.jpg\n",
      "./database/Zirong Yu\n",
      "Already built model is passed\n",
      "WARNING: Representations for images in  ./database/  folder were previously stored in  representations_vgg_model.pkl . If you added new instances after this file creation, then please delete this file and call find function again. It will create it again.\n",
      "There are  5  representations found in  representations_vgg_model.pkl\n"
     ]
    },
    {
     "name": "stderr",
     "output_type": "stream",
     "text": [
      "Analyzing: 100%|██████████| 1/1 [00:00<00:00,  3.00it/s]\n",
      "Analyzing:   0%|          | 0/1 [00:00<?, ?it/s]"
     ]
    },
    {
     "name": "stdout",
     "output_type": "stream",
     "text": [
      "find function lasts  0.337860107421875  seconds\n",
      "./database/Zirong Yu/front_mask2.jpg\n",
      "./database/Zirong Yu\n",
      "Already built model is passed\n",
      "WARNING: Representations for images in  ./database/  folder were previously stored in  representations_vgg_model.pkl . If you added new instances after this file creation, then please delete this file and call find function again. It will create it again.\n",
      "There are  5  representations found in  representations_vgg_model.pkl\n"
     ]
    },
    {
     "name": "stderr",
     "output_type": "stream",
     "text": [
      "Analyzing: 100%|██████████| 1/1 [00:00<00:00,  3.39it/s]\n",
      "Analyzing:   0%|          | 0/1 [00:00<?, ?it/s]"
     ]
    },
    {
     "name": "stdout",
     "output_type": "stream",
     "text": [
      "find function lasts  0.2987368106842041  seconds\n",
      "./database/Zirong Yu/front_mask2.jpg\n",
      "./database/Zirong Yu\n",
      "Already built model is passed\n",
      "WARNING: Representations for images in  ./database/  folder were previously stored in  representations_vgg_model.pkl . If you added new instances after this file creation, then please delete this file and call find function again. It will create it again.\n",
      "There are  5  representations found in  representations_vgg_model.pkl\n"
     ]
    },
    {
     "name": "stderr",
     "output_type": "stream",
     "text": [
      "Analyzing: 100%|██████████| 1/1 [00:00<00:00,  3.26it/s]\n",
      "Analyzing:   0%|          | 0/1 [00:00<?, ?it/s]"
     ]
    },
    {
     "name": "stdout",
     "output_type": "stream",
     "text": [
      "find function lasts  0.3110511302947998  seconds\n",
      "./database/Zirong Yu/front_mask2.jpg\n",
      "./database/Zirong Yu\n",
      "Already built model is passed\n",
      "WARNING: Representations for images in  ./database/  folder were previously stored in  representations_vgg_model.pkl . If you added new instances after this file creation, then please delete this file and call find function again. It will create it again.\n",
      "There are  5  representations found in  representations_vgg_model.pkl\n"
     ]
    },
    {
     "name": "stderr",
     "output_type": "stream",
     "text": [
      "Analyzing: 100%|██████████| 1/1 [00:00<00:00,  3.08it/s]\n",
      "Analyzing:   0%|          | 0/1 [00:00<?, ?it/s]"
     ]
    },
    {
     "name": "stdout",
     "output_type": "stream",
     "text": [
      "find function lasts  0.3283390998840332  seconds\n",
      "./database/Zirong Yu/front_mask2.jpg\n",
      "./database/Zirong Yu\n",
      "Already built model is passed\n",
      "WARNING: Representations for images in  ./database/  folder were previously stored in  representations_vgg_model.pkl . If you added new instances after this file creation, then please delete this file and call find function again. It will create it again.\n",
      "There are  5  representations found in  representations_vgg_model.pkl\n"
     ]
    },
    {
     "name": "stderr",
     "output_type": "stream",
     "text": [
      "Analyzing: 100%|██████████| 1/1 [00:00<00:00,  3.43it/s]\n",
      "Analyzing:   0%|          | 0/1 [00:00<?, ?it/s]"
     ]
    },
    {
     "name": "stdout",
     "output_type": "stream",
     "text": [
      "find function lasts  0.2952249050140381  seconds\n",
      "./database/Zirong Yu/1606259394031.jpg\n",
      "./database/Zirong Yu\n",
      "Already built model is passed\n",
      "WARNING: Representations for images in  ./database/  folder were previously stored in  representations_vgg_model.pkl . If you added new instances after this file creation, then please delete this file and call find function again. It will create it again.\n",
      "There are  5  representations found in  representations_vgg_model.pkl\n"
     ]
    },
    {
     "name": "stderr",
     "output_type": "stream",
     "text": [
      "Analyzing: 100%|██████████| 1/1 [00:00<00:00,  3.53it/s]\n",
      "Analyzing:   0%|          | 0/1 [00:00<?, ?it/s]"
     ]
    },
    {
     "name": "stdout",
     "output_type": "stream",
     "text": [
      "find function lasts  0.2860419750213623  seconds\n",
      "./database/Zirong Yu/1606259394031.jpg\n",
      "./database/Zirong Yu\n",
      "Already built model is passed\n",
      "WARNING: Representations for images in  ./database/  folder were previously stored in  representations_vgg_model.pkl . If you added new instances after this file creation, then please delete this file and call find function again. It will create it again.\n",
      "There are  5  representations found in  representations_vgg_model.pkl\n"
     ]
    },
    {
     "name": "stderr",
     "output_type": "stream",
     "text": [
      "Analyzing: 100%|██████████| 1/1 [00:00<00:00,  3.50it/s]\n"
     ]
    },
    {
     "name": "stdout",
     "output_type": "stream",
     "text": [
      "find function lasts  0.28952503204345703  seconds\n",
      "./database/Zirong Yu/1606259394031.jpg\n",
      "./database/Zirong Yu\n"
     ]
    },
    {
     "name": "stderr",
     "output_type": "stream",
     "text": [
      "\r",
      "Analyzing:   0%|          | 0/1 [00:00<?, ?it/s]"
     ]
    },
    {
     "name": "stdout",
     "output_type": "stream",
     "text": [
      "Already built model is passed\n",
      "WARNING: Representations for images in  ./database/  folder were previously stored in  representations_vgg_model.pkl . If you added new instances after this file creation, then please delete this file and call find function again. It will create it again.\n",
      "There are  5  representations found in  representations_vgg_model.pkl\n"
     ]
    },
    {
     "name": "stderr",
     "output_type": "stream",
     "text": [
      "Analyzing: 100%|██████████| 1/1 [00:00<00:00,  3.29it/s]\n",
      "Analyzing:   0%|          | 0/1 [00:00<?, ?it/s]"
     ]
    },
    {
     "name": "stdout",
     "output_type": "stream",
     "text": [
      "find function lasts  0.31403517723083496  seconds\n",
      "./database/Zirong Yu/1606259394031.jpg\n",
      "./database/Zirong Yu\n",
      "Already built model is passed\n",
      "WARNING: Representations for images in  ./database/  folder were previously stored in  representations_vgg_model.pkl . If you added new instances after this file creation, then please delete this file and call find function again. It will create it again.\n",
      "There are  5  representations found in  representations_vgg_model.pkl\n"
     ]
    },
    {
     "name": "stderr",
     "output_type": "stream",
     "text": [
      "Analyzing: 100%|██████████| 1/1 [00:00<00:00,  3.42it/s]\n",
      "Analyzing:   0%|          | 0/1 [00:00<?, ?it/s]"
     ]
    },
    {
     "name": "stdout",
     "output_type": "stream",
     "text": [
      "find function lasts  0.29576587677001953  seconds\n",
      "./database/Zirong Yu/front_mask2.jpg\n",
      "./database/Zirong Yu\n",
      "Already built model is passed\n",
      "WARNING: Representations for images in  ./database/  folder were previously stored in  representations_vgg_model.pkl . If you added new instances after this file creation, then please delete this file and call find function again. It will create it again.\n",
      "There are  5  representations found in  representations_vgg_model.pkl\n"
     ]
    },
    {
     "name": "stderr",
     "output_type": "stream",
     "text": [
      "Analyzing: 100%|██████████| 1/1 [00:00<00:00,  3.57it/s]\n",
      "Analyzing:   0%|          | 0/1 [00:00<?, ?it/s]"
     ]
    },
    {
     "name": "stdout",
     "output_type": "stream",
     "text": [
      "find function lasts  0.28408193588256836  seconds\n",
      "./database/Zirong Yu/front_mask2.jpg\n",
      "./database/Zirong Yu\n",
      "Already built model is passed\n",
      "WARNING: Representations for images in  ./database/  folder were previously stored in  representations_vgg_model.pkl . If you added new instances after this file creation, then please delete this file and call find function again. It will create it again.\n",
      "There are  5  representations found in  representations_vgg_model.pkl\n"
     ]
    },
    {
     "name": "stderr",
     "output_type": "stream",
     "text": [
      "Analyzing: 100%|██████████| 1/1 [00:00<00:00,  3.63it/s]\n",
      "Analyzing:   0%|          | 0/1 [00:00<?, ?it/s]"
     ]
    },
    {
     "name": "stdout",
     "output_type": "stream",
     "text": [
      "find function lasts  0.2804439067840576  seconds\n",
      "./database/Zirong Yu/front_mask2.jpg\n",
      "./database/Zirong Yu\n",
      "Already built model is passed\n",
      "WARNING: Representations for images in  ./database/  folder were previously stored in  representations_vgg_model.pkl . If you added new instances after this file creation, then please delete this file and call find function again. It will create it again.\n",
      "There are  5  representations found in  representations_vgg_model.pkl\n"
     ]
    },
    {
     "name": "stderr",
     "output_type": "stream",
     "text": [
      "Analyzing: 100%|██████████| 1/1 [00:00<00:00,  3.26it/s]\n",
      "Analyzing:   0%|          | 0/1 [00:00<?, ?it/s]"
     ]
    },
    {
     "name": "stdout",
     "output_type": "stream",
     "text": [
      "find function lasts  0.3105478286743164  seconds\n",
      "./database/Zirong Yu/1606259394031.jpg\n",
      "./database/Zirong Yu\n",
      "Already built model is passed\n",
      "WARNING: Representations for images in  ./database/  folder were previously stored in  representations_vgg_model.pkl . If you added new instances after this file creation, then please delete this file and call find function again. It will create it again.\n",
      "There are  5  representations found in  representations_vgg_model.pkl\n"
     ]
    },
    {
     "name": "stderr",
     "output_type": "stream",
     "text": [
      "Analyzing: 100%|██████████| 1/1 [00:00<00:00,  3.49it/s]\n"
     ]
    },
    {
     "name": "stdout",
     "output_type": "stream",
     "text": [
      "find function lasts  0.2895979881286621  seconds\n",
      "./database/Zirong Yu/front_mask2.jpg\n",
      "./database/Zirong Yu\n"
     ]
    },
    {
     "name": "stderr",
     "output_type": "stream",
     "text": [
      "\r",
      "Analyzing:   0%|          | 0/1 [00:00<?, ?it/s]"
     ]
    },
    {
     "name": "stdout",
     "output_type": "stream",
     "text": [
      "Already built model is passed\n",
      "WARNING: Representations for images in  ./database/  folder were previously stored in  representations_vgg_model.pkl . If you added new instances after this file creation, then please delete this file and call find function again. It will create it again.\n",
      "There are  5  representations found in  representations_vgg_model.pkl\n"
     ]
    },
    {
     "name": "stderr",
     "output_type": "stream",
     "text": [
      "Analyzing: 100%|██████████| 1/1 [00:00<00:00,  3.62it/s]\n",
      "Analyzing:   0%|          | 0/1 [00:00<?, ?it/s]"
     ]
    },
    {
     "name": "stdout",
     "output_type": "stream",
     "text": [
      "find function lasts  0.2825772762298584  seconds\n",
      "./database/Zirong Yu/front_mask2.jpg\n",
      "./database/Zirong Yu\n",
      "Already built model is passed\n",
      "WARNING: Representations for images in  ./database/  folder were previously stored in  representations_vgg_model.pkl . If you added new instances after this file creation, then please delete this file and call find function again. It will create it again.\n",
      "There are  5  representations found in  representations_vgg_model.pkl\n"
     ]
    },
    {
     "name": "stderr",
     "output_type": "stream",
     "text": [
      "Analyzing: 100%|██████████| 1/1 [00:00<00:00,  3.52it/s]\n",
      "Analyzing:   0%|          | 0/1 [00:00<?, ?it/s]"
     ]
    },
    {
     "name": "stdout",
     "output_type": "stream",
     "text": [
      "find function lasts  0.2876579761505127  seconds\n",
      "./database/Zirong Yu/front_mask2.jpg\n",
      "./database/Zirong Yu\n",
      "Already built model is passed\n",
      "WARNING: Representations for images in  ./database/  folder were previously stored in  representations_vgg_model.pkl . If you added new instances after this file creation, then please delete this file and call find function again. It will create it again.\n",
      "There are  5  representations found in  representations_vgg_model.pkl\n"
     ]
    },
    {
     "name": "stderr",
     "output_type": "stream",
     "text": [
      "Analyzing: 100%|██████████| 1/1 [00:00<00:00,  2.61it/s]\n"
     ]
    },
    {
     "name": "stdout",
     "output_type": "stream",
     "text": [
      "find function lasts  0.3868069648742676  seconds\n",
      "./database/Zirong Yu/front_mask2.jpg\n",
      "./database/Zirong Yu\n"
     ]
    },
    {
     "name": "stderr",
     "output_type": "stream",
     "text": [
      "\r",
      "Analyzing:   0%|          | 0/1 [00:00<?, ?it/s]"
     ]
    },
    {
     "name": "stdout",
     "output_type": "stream",
     "text": [
      "Already built model is passed\n",
      "WARNING: Representations for images in  ./database/  folder were previously stored in  representations_vgg_model.pkl . If you added new instances after this file creation, then please delete this file and call find function again. It will create it again.\n",
      "There are  5  representations found in  representations_vgg_model.pkl\n"
     ]
    },
    {
     "name": "stderr",
     "output_type": "stream",
     "text": [
      "Analyzing: 100%|██████████| 1/1 [00:00<00:00,  2.77it/s]\n"
     ]
    },
    {
     "name": "stdout",
     "output_type": "stream",
     "text": [
      "find function lasts  0.3661839962005615  seconds\n",
      "./database/Zirong Yu/front_mask2.jpg\n",
      "./database/Zirong Yu\n"
     ]
    },
    {
     "name": "stderr",
     "output_type": "stream",
     "text": [
      "\r",
      "Analyzing:   0%|          | 0/1 [00:00<?, ?it/s]"
     ]
    },
    {
     "name": "stdout",
     "output_type": "stream",
     "text": [
      "Already built model is passed\n",
      "WARNING: Representations for images in  ./database/  folder were previously stored in  representations_vgg_model.pkl . If you added new instances after this file creation, then please delete this file and call find function again. It will create it again.\n",
      "There are  5  representations found in  representations_vgg_model.pkl\n"
     ]
    },
    {
     "name": "stderr",
     "output_type": "stream",
     "text": [
      "Analyzing: 100%|██████████| 1/1 [00:00<00:00,  2.37it/s]\n"
     ]
    },
    {
     "name": "stdout",
     "output_type": "stream",
     "text": [
      "find function lasts  0.42833495140075684  seconds\n",
      "./database/Zirong Yu/front_mask2.jpg\n",
      "./database/Zirong Yu\n"
     ]
    },
    {
     "name": "stderr",
     "output_type": "stream",
     "text": [
      "\r",
      "Analyzing:   0%|          | 0/1 [00:00<?, ?it/s]"
     ]
    },
    {
     "name": "stdout",
     "output_type": "stream",
     "text": [
      "Already built model is passed\n",
      "WARNING: Representations for images in  ./database/  folder were previously stored in  representations_vgg_model.pkl . If you added new instances after this file creation, then please delete this file and call find function again. It will create it again.\n",
      "There are  5  representations found in  representations_vgg_model.pkl\n"
     ]
    },
    {
     "name": "stderr",
     "output_type": "stream",
     "text": [
      "Analyzing: 100%|██████████| 1/1 [00:00<00:00,  2.36it/s]\n"
     ]
    },
    {
     "name": "stdout",
     "output_type": "stream",
     "text": [
      "find function lasts  0.43494701385498047  seconds\n",
      "./database/Zirong Yu/front_mask2.jpg\n",
      "./database/Zirong Yu\n"
     ]
    },
    {
     "name": "stderr",
     "output_type": "stream",
     "text": [
      "\r",
      "Analyzing:   0%|          | 0/1 [00:00<?, ?it/s]"
     ]
    },
    {
     "name": "stdout",
     "output_type": "stream",
     "text": [
      "Already built model is passed\n",
      "WARNING: Representations for images in  ./database/  folder were previously stored in  representations_vgg_model.pkl . If you added new instances after this file creation, then please delete this file and call find function again. It will create it again.\n",
      "There are  5  representations found in  representations_vgg_model.pkl\n"
     ]
    },
    {
     "name": "stderr",
     "output_type": "stream",
     "text": [
      "Analyzing: 100%|██████████| 1/1 [00:00<00:00,  3.14it/s]\n",
      "Analyzing:   0%|          | 0/1 [00:00<?, ?it/s]"
     ]
    },
    {
     "name": "stdout",
     "output_type": "stream",
     "text": [
      "find function lasts  0.32744288444519043  seconds\n",
      "./database/Zirong Yu/front_mask2.jpg\n",
      "./database/Zirong Yu\n",
      "Already built model is passed\n",
      "WARNING: Representations for images in  ./database/  folder were previously stored in  representations_vgg_model.pkl . If you added new instances after this file creation, then please delete this file and call find function again. It will create it again.\n",
      "There are  5  representations found in  representations_vgg_model.pkl\n"
     ]
    },
    {
     "name": "stderr",
     "output_type": "stream",
     "text": [
      "Analyzing: 100%|██████████| 1/1 [00:00<00:00,  2.89it/s]\n",
      "Analyzing:   0%|          | 0/1 [00:00<?, ?it/s]"
     ]
    },
    {
     "name": "stdout",
     "output_type": "stream",
     "text": [
      "find function lasts  0.353924036026001  seconds\n",
      "./database/Zirong Yu/front_mask2.jpg\n",
      "./database/Zirong Yu\n",
      "Already built model is passed\n",
      "WARNING: Representations for images in  ./database/  folder were previously stored in  representations_vgg_model.pkl . If you added new instances after this file creation, then please delete this file and call find function again. It will create it again.\n",
      "There are  5  representations found in  representations_vgg_model.pkl\n"
     ]
    },
    {
     "name": "stderr",
     "output_type": "stream",
     "text": [
      "Analyzing: 100%|██████████| 1/1 [00:00<00:00,  4.59it/s]\n",
      "Analyzing:   0%|          | 0/1 [00:00<?, ?it/s]"
     ]
    },
    {
     "name": "stdout",
     "output_type": "stream",
     "text": [
      "find function lasts  0.22077202796936035  seconds\n",
      "./database/Zirong Yu/front_mask2.jpg\n",
      "./database/Zirong Yu\n",
      "Already built model is passed\n",
      "WARNING: Representations for images in  ./database/  folder were previously stored in  representations_vgg_model.pkl . If you added new instances after this file creation, then please delete this file and call find function again. It will create it again.\n",
      "There are  5  representations found in  representations_vgg_model.pkl\n"
     ]
    },
    {
     "name": "stderr",
     "output_type": "stream",
     "text": [
      "Analyzing: 100%|██████████| 1/1 [00:00<00:00,  4.67it/s]\n",
      "Analyzing:   0%|          | 0/1 [00:00<?, ?it/s]"
     ]
    },
    {
     "name": "stdout",
     "output_type": "stream",
     "text": [
      "find function lasts  0.21737003326416016  seconds\n",
      "./database/Zirong Yu/front_mask2.jpg\n",
      "./database/Zirong Yu\n",
      "Already built model is passed\n",
      "WARNING: Representations for images in  ./database/  folder were previously stored in  representations_vgg_model.pkl . If you added new instances after this file creation, then please delete this file and call find function again. It will create it again.\n",
      "There are  5  representations found in  representations_vgg_model.pkl\n"
     ]
    },
    {
     "name": "stderr",
     "output_type": "stream",
     "text": [
      "Analyzing: 100%|██████████| 1/1 [00:00<00:00,  4.36it/s]\n",
      "Analyzing:   0%|          | 0/1 [00:00<?, ?it/s]"
     ]
    },
    {
     "name": "stdout",
     "output_type": "stream",
     "text": [
      "find function lasts  0.23201417922973633  seconds\n",
      "./database/Zirong Yu/front_mask2.jpg\n",
      "./database/Zirong Yu\n",
      "Already built model is passed\n",
      "WARNING: Representations for images in  ./database/  folder were previously stored in  representations_vgg_model.pkl . If you added new instances after this file creation, then please delete this file and call find function again. It will create it again.\n",
      "There are  5  representations found in  representations_vgg_model.pkl\n"
     ]
    },
    {
     "name": "stderr",
     "output_type": "stream",
     "text": [
      "Analyzing: 100%|██████████| 1/1 [00:00<00:00,  4.56it/s]\n"
     ]
    },
    {
     "name": "stdout",
     "output_type": "stream",
     "text": [
      "find function lasts  0.22207880020141602  seconds\n",
      "./database/Zirong Yu/front_mask2.jpg\n",
      "./database/Zirong Yu\n"
     ]
    },
    {
     "name": "stderr",
     "output_type": "stream",
     "text": [
      "\r",
      "Analyzing:   0%|          | 0/1 [00:00<?, ?it/s]"
     ]
    },
    {
     "name": "stdout",
     "output_type": "stream",
     "text": [
      "Already built model is passed\n",
      "WARNING: Representations for images in  ./database/  folder were previously stored in  representations_vgg_model.pkl . If you added new instances after this file creation, then please delete this file and call find function again. It will create it again.\n",
      "There are  5  representations found in  representations_vgg_model.pkl\n"
     ]
    },
    {
     "name": "stderr",
     "output_type": "stream",
     "text": [
      "Analyzing: 100%|██████████| 1/1 [00:00<00:00,  4.43it/s]\n"
     ]
    },
    {
     "name": "stdout",
     "output_type": "stream",
     "text": [
      "find function lasts  0.22932004928588867  seconds\n",
      "./database/Zirong Yu/front_mask2.jpg\n",
      "./database/Zirong Yu\n"
     ]
    },
    {
     "name": "stderr",
     "output_type": "stream",
     "text": [
      "\r",
      "Analyzing:   0%|          | 0/1 [00:00<?, ?it/s]"
     ]
    },
    {
     "name": "stdout",
     "output_type": "stream",
     "text": [
      "Already built model is passed\n",
      "WARNING: Representations for images in  ./database/  folder were previously stored in  representations_vgg_model.pkl . If you added new instances after this file creation, then please delete this file and call find function again. It will create it again.\n",
      "There are  5  representations found in  representations_vgg_model.pkl\n"
     ]
    },
    {
     "name": "stderr",
     "output_type": "stream",
     "text": [
      "Analyzing: 100%|██████████| 1/1 [00:00<00:00,  3.96it/s]\n",
      "Analyzing:   0%|          | 0/1 [00:00<?, ?it/s]"
     ]
    },
    {
     "name": "stdout",
     "output_type": "stream",
     "text": [
      "find function lasts  0.2586202621459961  seconds\n",
      "./database/Zirong Yu/front_mask2.jpg\n",
      "./database/Zirong Yu\n",
      "Already built model is passed\n",
      "WARNING: Representations for images in  ./database/  folder were previously stored in  representations_vgg_model.pkl . If you added new instances after this file creation, then please delete this file and call find function again. It will create it again.\n",
      "There are  5  representations found in  representations_vgg_model.pkl\n"
     ]
    },
    {
     "name": "stderr",
     "output_type": "stream",
     "text": [
      "Analyzing: 100%|██████████| 1/1 [00:00<00:00,  4.34it/s]\n",
      "Analyzing:   0%|          | 0/1 [00:00<?, ?it/s]"
     ]
    },
    {
     "name": "stdout",
     "output_type": "stream",
     "text": [
      "find function lasts  0.23366403579711914  seconds\n",
      "./database/Zirong Yu/front_mask2.jpg\n",
      "./database/Zirong Yu\n",
      "Already built model is passed\n",
      "WARNING: Representations for images in  ./database/  folder were previously stored in  representations_vgg_model.pkl . If you added new instances after this file creation, then please delete this file and call find function again. It will create it again.\n",
      "There are  5  representations found in  representations_vgg_model.pkl\n"
     ]
    },
    {
     "name": "stderr",
     "output_type": "stream",
     "text": [
      "Analyzing: 100%|██████████| 1/1 [00:00<00:00,  4.55it/s]\n",
      "Analyzing:   0%|          | 0/1 [00:00<?, ?it/s]"
     ]
    },
    {
     "name": "stdout",
     "output_type": "stream",
     "text": [
      "find function lasts  0.2228238582611084  seconds\n",
      "./database/Zirong Yu/front_mask2.jpg\n",
      "./database/Zirong Yu\n",
      "Already built model is passed\n",
      "WARNING: Representations for images in  ./database/  folder were previously stored in  representations_vgg_model.pkl . If you added new instances after this file creation, then please delete this file and call find function again. It will create it again.\n",
      "There are  5  representations found in  representations_vgg_model.pkl\n"
     ]
    },
    {
     "name": "stderr",
     "output_type": "stream",
     "text": [
      "Analyzing: 100%|██████████| 1/1 [00:00<00:00,  4.67it/s]\n",
      "Analyzing:   0%|          | 0/1 [00:00<?, ?it/s]"
     ]
    },
    {
     "name": "stdout",
     "output_type": "stream",
     "text": [
      "find function lasts  0.2167830467224121  seconds\n",
      "./database/Zirong Yu/front_mask2.jpg\n",
      "./database/Zirong Yu\n",
      "Already built model is passed\n",
      "WARNING: Representations for images in  ./database/  folder were previously stored in  representations_vgg_model.pkl . If you added new instances after this file creation, then please delete this file and call find function again. It will create it again.\n",
      "There are  5  representations found in  representations_vgg_model.pkl\n"
     ]
    },
    {
     "name": "stderr",
     "output_type": "stream",
     "text": [
      "Analyzing: 100%|██████████| 1/1 [00:00<00:00,  4.36it/s]\n",
      "Analyzing:   0%|          | 0/1 [00:00<?, ?it/s]"
     ]
    },
    {
     "name": "stdout",
     "output_type": "stream",
     "text": [
      "find function lasts  0.2325289249420166  seconds\n",
      "./database/Zirong Yu/front_mask2.jpg\n",
      "./database/Zirong Yu\n",
      "Already built model is passed\n",
      "WARNING: Representations for images in  ./database/  folder were previously stored in  representations_vgg_model.pkl . If you added new instances after this file creation, then please delete this file and call find function again. It will create it again.\n",
      "There are  5  representations found in  representations_vgg_model.pkl\n"
     ]
    },
    {
     "name": "stderr",
     "output_type": "stream",
     "text": [
      "Analyzing: 100%|██████████| 1/1 [00:00<00:00,  4.56it/s]\n",
      "Analyzing:   0%|          | 0/1 [00:00<?, ?it/s]"
     ]
    },
    {
     "name": "stdout",
     "output_type": "stream",
     "text": [
      "find function lasts  0.2223830223083496  seconds\n",
      "./database/Zirong Yu/front_mask2.jpg\n",
      "./database/Zirong Yu\n",
      "Already built model is passed\n",
      "WARNING: Representations for images in  ./database/  folder were previously stored in  representations_vgg_model.pkl . If you added new instances after this file creation, then please delete this file and call find function again. It will create it again.\n",
      "There are  5  representations found in  representations_vgg_model.pkl\n"
     ]
    },
    {
     "name": "stderr",
     "output_type": "stream",
     "text": [
      "Analyzing: 100%|██████████| 1/1 [00:00<00:00,  4.68it/s]\n",
      "Analyzing:   0%|          | 0/1 [00:00<?, ?it/s]"
     ]
    },
    {
     "name": "stdout",
     "output_type": "stream",
     "text": [
      "find function lasts  0.21711015701293945  seconds\n",
      "./database/Zirong Yu/front_mask2.jpg\n",
      "./database/Zirong Yu\n",
      "Already built model is passed\n",
      "WARNING: Representations for images in  ./database/  folder were previously stored in  representations_vgg_model.pkl . If you added new instances after this file creation, then please delete this file and call find function again. It will create it again.\n",
      "There are  5  representations found in  representations_vgg_model.pkl\n"
     ]
    },
    {
     "name": "stderr",
     "output_type": "stream",
     "text": [
      "Analyzing: 100%|██████████| 1/1 [00:00<00:00,  4.24it/s]\n",
      "Analyzing:   0%|          | 0/1 [00:00<?, ?it/s]"
     ]
    },
    {
     "name": "stdout",
     "output_type": "stream",
     "text": [
      "find function lasts  0.238677978515625  seconds\n",
      "./database/Zirong Yu/front_mask2.jpg\n",
      "./database/Zirong Yu\n",
      "Already built model is passed\n",
      "WARNING: Representations for images in  ./database/  folder were previously stored in  representations_vgg_model.pkl . If you added new instances after this file creation, then please delete this file and call find function again. It will create it again.\n",
      "There are  5  representations found in  representations_vgg_model.pkl\n"
     ]
    },
    {
     "name": "stderr",
     "output_type": "stream",
     "text": [
      "Analyzing: 100%|██████████| 1/1 [00:00<00:00,  3.74it/s]\n",
      "Analyzing:   0%|          | 0/1 [00:00<?, ?it/s]"
     ]
    },
    {
     "name": "stdout",
     "output_type": "stream",
     "text": [
      "find function lasts  0.27019166946411133  seconds\n",
      "./database/Zirong Yu/front_mask2.jpg\n",
      "./database/Zirong Yu\n",
      "Already built model is passed\n",
      "WARNING: Representations for images in  ./database/  folder were previously stored in  representations_vgg_model.pkl . If you added new instances after this file creation, then please delete this file and call find function again. It will create it again.\n",
      "There are  5  representations found in  representations_vgg_model.pkl\n"
     ]
    },
    {
     "name": "stderr",
     "output_type": "stream",
     "text": [
      "Analyzing: 100%|██████████| 1/1 [00:00<00:00,  4.51it/s]\n",
      "Analyzing:   0%|          | 0/1 [00:00<?, ?it/s]"
     ]
    },
    {
     "name": "stdout",
     "output_type": "stream",
     "text": [
      "find function lasts  0.22445392608642578  seconds\n",
      "./database/Zirong Yu/front_mask2.jpg\n",
      "./database/Zirong Yu\n",
      "Already built model is passed\n",
      "WARNING: Representations for images in  ./database/  folder were previously stored in  representations_vgg_model.pkl . If you added new instances after this file creation, then please delete this file and call find function again. It will create it again.\n",
      "There are  5  representations found in  representations_vgg_model.pkl\n"
     ]
    },
    {
     "name": "stderr",
     "output_type": "stream",
     "text": [
      "Analyzing: 100%|██████████| 1/1 [00:00<00:00,  4.40it/s]\n",
      "Analyzing:   0%|          | 0/1 [00:00<?, ?it/s]"
     ]
    },
    {
     "name": "stdout",
     "output_type": "stream",
     "text": [
      "find function lasts  0.23059797286987305  seconds\n",
      "./database/Zirong Yu/front_mask2.jpg\n",
      "./database/Zirong Yu\n",
      "Already built model is passed\n",
      "WARNING: Representations for images in  ./database/  folder were previously stored in  representations_vgg_model.pkl . If you added new instances after this file creation, then please delete this file and call find function again. It will create it again.\n",
      "There are  5  representations found in  representations_vgg_model.pkl\n"
     ]
    },
    {
     "name": "stderr",
     "output_type": "stream",
     "text": [
      "Analyzing: 100%|██████████| 1/1 [00:00<00:00,  4.28it/s]\n",
      "Analyzing:   0%|          | 0/1 [00:00<?, ?it/s]"
     ]
    },
    {
     "name": "stdout",
     "output_type": "stream",
     "text": [
      "find function lasts  0.23643803596496582  seconds\n",
      "./database/Zirong Yu/front_mask2.jpg\n",
      "./database/Zirong Yu\n",
      "Already built model is passed\n",
      "WARNING: Representations for images in  ./database/  folder were previously stored in  representations_vgg_model.pkl . If you added new instances after this file creation, then please delete this file and call find function again. It will create it again.\n",
      "There are  5  representations found in  representations_vgg_model.pkl\n"
     ]
    },
    {
     "name": "stderr",
     "output_type": "stream",
     "text": [
      "Analyzing: 100%|██████████| 1/1 [00:00<00:00,  4.14it/s]\n",
      "Analyzing:   0%|          | 0/1 [00:00<?, ?it/s]"
     ]
    },
    {
     "name": "stdout",
     "output_type": "stream",
     "text": [
      "find function lasts  0.244459867477417  seconds\n",
      "./database/Zirong Yu/front_mask2.jpg\n",
      "./database/Zirong Yu\n",
      "Already built model is passed\n",
      "WARNING: Representations for images in  ./database/  folder were previously stored in  representations_vgg_model.pkl . If you added new instances after this file creation, then please delete this file and call find function again. It will create it again.\n",
      "There are  5  representations found in  representations_vgg_model.pkl\n"
     ]
    },
    {
     "name": "stderr",
     "output_type": "stream",
     "text": [
      "Analyzing: 100%|██████████| 1/1 [00:00<00:00,  4.54it/s]\n",
      "Analyzing:   0%|          | 0/1 [00:00<?, ?it/s]"
     ]
    },
    {
     "name": "stdout",
     "output_type": "stream",
     "text": [
      "find function lasts  0.2226119041442871  seconds\n",
      "./database/Zirong Yu/front_mask2.jpg\n",
      "./database/Zirong Yu\n",
      "Already built model is passed\n",
      "WARNING: Representations for images in  ./database/  folder were previously stored in  representations_vgg_model.pkl . If you added new instances after this file creation, then please delete this file and call find function again. It will create it again.\n",
      "There are  5  representations found in  representations_vgg_model.pkl\n"
     ]
    },
    {
     "name": "stderr",
     "output_type": "stream",
     "text": [
      "Analyzing: 100%|██████████| 1/1 [00:00<00:00,  4.44it/s]\n",
      "Analyzing:   0%|          | 0/1 [00:00<?, ?it/s]"
     ]
    },
    {
     "name": "stdout",
     "output_type": "stream",
     "text": [
      "find function lasts  0.22815370559692383  seconds\n",
      "./database/Zirong Yu/front_mask2.jpg\n",
      "./database/Zirong Yu\n",
      "Already built model is passed\n",
      "WARNING: Representations for images in  ./database/  folder were previously stored in  representations_vgg_model.pkl . If you added new instances after this file creation, then please delete this file and call find function again. It will create it again.\n",
      "There are  5  representations found in  representations_vgg_model.pkl\n"
     ]
    },
    {
     "name": "stderr",
     "output_type": "stream",
     "text": [
      "Analyzing: 100%|██████████| 1/1 [00:00<00:00,  4.57it/s]\n",
      "Analyzing:   0%|          | 0/1 [00:00<?, ?it/s]"
     ]
    },
    {
     "name": "stdout",
     "output_type": "stream",
     "text": [
      "find function lasts  0.2215898036956787  seconds\n",
      "./database/Zirong Yu/front_mask2.jpg\n",
      "./database/Zirong Yu\n",
      "Already built model is passed\n",
      "WARNING: Representations for images in  ./database/  folder were previously stored in  representations_vgg_model.pkl . If you added new instances after this file creation, then please delete this file and call find function again. It will create it again.\n",
      "There are  5  representations found in  representations_vgg_model.pkl\n"
     ]
    },
    {
     "name": "stderr",
     "output_type": "stream",
     "text": [
      "Analyzing: 100%|██████████| 1/1 [00:00<00:00,  4.76it/s]\n",
      "Analyzing:   0%|          | 0/1 [00:00<?, ?it/s]"
     ]
    },
    {
     "name": "stdout",
     "output_type": "stream",
     "text": [
      "find function lasts  0.21247291564941406  seconds\n",
      "./database/Zirong Yu/front_mask2.jpg\n",
      "./database/Zirong Yu\n",
      "Already built model is passed\n",
      "WARNING: Representations for images in  ./database/  folder were previously stored in  representations_vgg_model.pkl . If you added new instances after this file creation, then please delete this file and call find function again. It will create it again.\n",
      "There are  5  representations found in  representations_vgg_model.pkl\n"
     ]
    },
    {
     "name": "stderr",
     "output_type": "stream",
     "text": [
      "Analyzing: 100%|██████████| 1/1 [00:00<00:00,  4.37it/s]\n",
      "Analyzing:   0%|          | 0/1 [00:00<?, ?it/s]"
     ]
    },
    {
     "name": "stdout",
     "output_type": "stream",
     "text": [
      "find function lasts  0.23212695121765137  seconds\n",
      "./database/Zirong Yu/front_mask2.jpg\n",
      "./database/Zirong Yu\n",
      "Already built model is passed\n",
      "WARNING: Representations for images in  ./database/  folder were previously stored in  representations_vgg_model.pkl . If you added new instances after this file creation, then please delete this file and call find function again. It will create it again.\n",
      "There are  5  representations found in  representations_vgg_model.pkl\n"
     ]
    },
    {
     "name": "stderr",
     "output_type": "stream",
     "text": [
      "Analyzing: 100%|██████████| 1/1 [00:00<00:00,  4.64it/s]\n"
     ]
    },
    {
     "name": "stdout",
     "output_type": "stream",
     "text": [
      "find function lasts  0.21782803535461426  seconds\n",
      "./database/Zirong Yu/front_mask2.jpg\n",
      "./database/Zirong Yu\n"
     ]
    },
    {
     "name": "stderr",
     "output_type": "stream",
     "text": [
      "\r",
      "Analyzing:   0%|          | 0/1 [00:00<?, ?it/s]"
     ]
    },
    {
     "name": "stdout",
     "output_type": "stream",
     "text": [
      "Already built model is passed\n",
      "WARNING: Representations for images in  ./database/  folder were previously stored in  representations_vgg_model.pkl . If you added new instances after this file creation, then please delete this file and call find function again. It will create it again.\n",
      "There are  5  representations found in  representations_vgg_model.pkl\n"
     ]
    },
    {
     "name": "stderr",
     "output_type": "stream",
     "text": [
      "Analyzing: 100%|██████████| 1/1 [00:00<00:00,  4.62it/s]\n",
      "Analyzing:   0%|          | 0/1 [00:00<?, ?it/s]"
     ]
    },
    {
     "name": "stdout",
     "output_type": "stream",
     "text": [
      "find function lasts  0.21966218948364258  seconds\n",
      "./database/Zirong Yu/front_mask2.jpg\n",
      "./database/Zirong Yu\n",
      "Already built model is passed\n",
      "WARNING: Representations for images in  ./database/  folder were previously stored in  representations_vgg_model.pkl . If you added new instances after this file creation, then please delete this file and call find function again. It will create it again.\n",
      "There are  5  representations found in  representations_vgg_model.pkl\n"
     ]
    },
    {
     "name": "stderr",
     "output_type": "stream",
     "text": [
      "Analyzing: 100%|██████████| 1/1 [00:00<00:00,  4.42it/s]\n",
      "Analyzing:   0%|          | 0/1 [00:00<?, ?it/s]"
     ]
    },
    {
     "name": "stdout",
     "output_type": "stream",
     "text": [
      "find function lasts  0.22977495193481445  seconds\n",
      "./database/Zirong Yu/front_mask2.jpg\n",
      "./database/Zirong Yu\n",
      "Already built model is passed\n",
      "WARNING: Representations for images in  ./database/  folder were previously stored in  representations_vgg_model.pkl . If you added new instances after this file creation, then please delete this file and call find function again. It will create it again.\n",
      "There are  5  representations found in  representations_vgg_model.pkl\n"
     ]
    },
    {
     "name": "stderr",
     "output_type": "stream",
     "text": [
      "Analyzing: 100%|██████████| 1/1 [00:00<00:00,  4.20it/s]\n"
     ]
    },
    {
     "name": "stdout",
     "output_type": "stream",
     "text": [
      "find function lasts  0.24057888984680176  seconds\n",
      "./database/Zirong Yu/front_mask2.jpg\n",
      "./database/Zirong Yu\n"
     ]
    },
    {
     "name": "stderr",
     "output_type": "stream",
     "text": [
      "\r",
      "Analyzing:   0%|          | 0/1 [00:00<?, ?it/s]"
     ]
    },
    {
     "name": "stdout",
     "output_type": "stream",
     "text": [
      "Already built model is passed\n",
      "WARNING: Representations for images in  ./database/  folder were previously stored in  representations_vgg_model.pkl . If you added new instances after this file creation, then please delete this file and call find function again. It will create it again.\n",
      "There are  5  representations found in  representations_vgg_model.pkl\n"
     ]
    },
    {
     "name": "stderr",
     "output_type": "stream",
     "text": [
      "Analyzing: 100%|██████████| 1/1 [00:00<00:00,  4.37it/s]\n"
     ]
    },
    {
     "name": "stdout",
     "output_type": "stream",
     "text": [
      "find function lasts  0.23160696029663086  seconds\n",
      "./database/Zirong Yu/front_mask2.jpg\n",
      "./database/Zirong Yu\n"
     ]
    },
    {
     "name": "stderr",
     "output_type": "stream",
     "text": [
      "\r",
      "Analyzing:   0%|          | 0/1 [00:00<?, ?it/s]"
     ]
    },
    {
     "name": "stdout",
     "output_type": "stream",
     "text": [
      "Already built model is passed\n",
      "WARNING: Representations for images in  ./database/  folder were previously stored in  representations_vgg_model.pkl . If you added new instances after this file creation, then please delete this file and call find function again. It will create it again.\n",
      "There are  5  representations found in  representations_vgg_model.pkl\n"
     ]
    },
    {
     "name": "stderr",
     "output_type": "stream",
     "text": [
      "Analyzing: 100%|██████████| 1/1 [00:00<00:00,  4.58it/s]\n",
      "Analyzing:   0%|          | 0/1 [00:00<?, ?it/s]"
     ]
    },
    {
     "name": "stdout",
     "output_type": "stream",
     "text": [
      "find function lasts  0.22130584716796875  seconds\n",
      "./database/Zirong Yu/front_mask2.jpg\n",
      "./database/Zirong Yu\n",
      "Already built model is passed\n",
      "WARNING: Representations for images in  ./database/  folder were previously stored in  representations_vgg_model.pkl . If you added new instances after this file creation, then please delete this file and call find function again. It will create it again.\n",
      "There are  5  representations found in  representations_vgg_model.pkl\n"
     ]
    },
    {
     "name": "stderr",
     "output_type": "stream",
     "text": [
      "Analyzing: 100%|██████████| 1/1 [00:00<00:00,  4.91it/s]\n",
      "Analyzing:   0%|          | 0/1 [00:00<?, ?it/s]"
     ]
    },
    {
     "name": "stdout",
     "output_type": "stream",
     "text": [
      "find function lasts  0.2063150405883789  seconds\n",
      "./database/Zirong Yu/front_mask2.jpg\n",
      "./database/Zirong Yu\n",
      "Already built model is passed\n",
      "WARNING: Representations for images in  ./database/  folder were previously stored in  representations_vgg_model.pkl . If you added new instances after this file creation, then please delete this file and call find function again. It will create it again.\n",
      "There are  5  representations found in  representations_vgg_model.pkl\n"
     ]
    },
    {
     "name": "stderr",
     "output_type": "stream",
     "text": [
      "Analyzing: 100%|██████████| 1/1 [00:00<00:00,  4.78it/s]\n",
      "Analyzing:   0%|          | 0/1 [00:00<?, ?it/s]"
     ]
    },
    {
     "name": "stdout",
     "output_type": "stream",
     "text": [
      "find function lasts  0.21178793907165527  seconds\n",
      "./database/Zirong Yu/front_mask2.jpg\n",
      "./database/Zirong Yu\n",
      "Already built model is passed\n",
      "WARNING: Representations for images in  ./database/  folder were previously stored in  representations_vgg_model.pkl . If you added new instances after this file creation, then please delete this file and call find function again. It will create it again.\n",
      "There are  5  representations found in  representations_vgg_model.pkl\n"
     ]
    },
    {
     "name": "stderr",
     "output_type": "stream",
     "text": [
      "Analyzing: 100%|██████████| 1/1 [00:00<00:00,  4.36it/s]\n",
      "Analyzing:   0%|          | 0/1 [00:00<?, ?it/s]"
     ]
    },
    {
     "name": "stdout",
     "output_type": "stream",
     "text": [
      "find function lasts  0.23247599601745605  seconds\n",
      "./database/Zirong Yu/front_mask2.jpg\n",
      "./database/Zirong Yu\n",
      "Already built model is passed\n",
      "WARNING: Representations for images in  ./database/  folder were previously stored in  representations_vgg_model.pkl . If you added new instances after this file creation, then please delete this file and call find function again. It will create it again.\n",
      "There are  5  representations found in  representations_vgg_model.pkl\n"
     ]
    },
    {
     "name": "stderr",
     "output_type": "stream",
     "text": [
      "Analyzing: 100%|██████████| 1/1 [00:00<00:00,  4.29it/s]\n",
      "Analyzing:   0%|          | 0/1 [00:00<?, ?it/s]"
     ]
    },
    {
     "name": "stdout",
     "output_type": "stream",
     "text": [
      "find function lasts  0.23592233657836914  seconds\n",
      "./database/Zirong Yu/front_mask2.jpg\n",
      "./database/Zirong Yu\n",
      "Already built model is passed\n",
      "WARNING: Representations for images in  ./database/  folder were previously stored in  representations_vgg_model.pkl . If you added new instances after this file creation, then please delete this file and call find function again. It will create it again.\n",
      "There are  5  representations found in  representations_vgg_model.pkl\n"
     ]
    },
    {
     "name": "stderr",
     "output_type": "stream",
     "text": [
      "Analyzing: 100%|██████████| 1/1 [00:00<00:00,  4.59it/s]\n",
      "Analyzing:   0%|          | 0/1 [00:00<?, ?it/s]"
     ]
    },
    {
     "name": "stdout",
     "output_type": "stream",
     "text": [
      "find function lasts  0.22058510780334473  seconds\n",
      "./database/Zirong Yu/front_mask2.jpg\n",
      "./database/Zirong Yu\n",
      "Already built model is passed\n",
      "WARNING: Representations for images in  ./database/  folder were previously stored in  representations_vgg_model.pkl . If you added new instances after this file creation, then please delete this file and call find function again. It will create it again.\n",
      "There are  5  representations found in  representations_vgg_model.pkl\n"
     ]
    },
    {
     "name": "stderr",
     "output_type": "stream",
     "text": [
      "Analyzing: 100%|██████████| 1/1 [00:00<00:00,  4.89it/s]\n",
      "Analyzing:   0%|          | 0/1 [00:00<?, ?it/s]"
     ]
    },
    {
     "name": "stdout",
     "output_type": "stream",
     "text": [
      "find function lasts  0.20840024948120117  seconds\n",
      "./database/Zirong Yu/front_mask2.jpg\n",
      "./database/Zirong Yu\n",
      "Already built model is passed\n",
      "WARNING: Representations for images in  ./database/  folder were previously stored in  representations_vgg_model.pkl . If you added new instances after this file creation, then please delete this file and call find function again. It will create it again.\n",
      "There are  5  representations found in  representations_vgg_model.pkl\n"
     ]
    },
    {
     "name": "stderr",
     "output_type": "stream",
     "text": [
      "Analyzing: 100%|██████████| 1/1 [00:00<00:00,  4.62it/s]\n"
     ]
    },
    {
     "name": "stdout",
     "output_type": "stream",
     "text": [
      "find function lasts  0.21896696090698242  seconds\n",
      "./database/Zirong Yu/1606259394031.jpg\n",
      "./database/Zirong Yu\n"
     ]
    },
    {
     "name": "stderr",
     "output_type": "stream",
     "text": [
      "\r",
      "Analyzing:   0%|          | 0/1 [00:00<?, ?it/s]"
     ]
    },
    {
     "name": "stdout",
     "output_type": "stream",
     "text": [
      "Already built model is passed\n",
      "WARNING: Representations for images in  ./database/  folder were previously stored in  representations_vgg_model.pkl . If you added new instances after this file creation, then please delete this file and call find function again. It will create it again.\n",
      "There are  5  representations found in  representations_vgg_model.pkl\n"
     ]
    },
    {
     "name": "stderr",
     "output_type": "stream",
     "text": [
      "Analyzing: 100%|██████████| 1/1 [00:00<00:00,  4.80it/s]\n",
      "Analyzing:   0%|          | 0/1 [00:00<?, ?it/s]"
     ]
    },
    {
     "name": "stdout",
     "output_type": "stream",
     "text": [
      "find function lasts  0.21100807189941406  seconds\n",
      "./database/Zirong Yu/front_mask2.jpg\n",
      "./database/Zirong Yu\n",
      "Already built model is passed\n",
      "WARNING: Representations for images in  ./database/  folder were previously stored in  representations_vgg_model.pkl . If you added new instances after this file creation, then please delete this file and call find function again. It will create it again.\n",
      "There are  5  representations found in  representations_vgg_model.pkl\n"
     ]
    },
    {
     "name": "stderr",
     "output_type": "stream",
     "text": [
      "Analyzing: 100%|██████████| 1/1 [00:00<00:00,  4.66it/s]\n",
      "Analyzing:   0%|          | 0/1 [00:00<?, ?it/s]"
     ]
    },
    {
     "name": "stdout",
     "output_type": "stream",
     "text": [
      "find function lasts  0.2167820930480957  seconds\n",
      "./database/Zirong Yu/front_mask2.jpg\n",
      "./database/Zirong Yu\n",
      "Already built model is passed\n",
      "WARNING: Representations for images in  ./database/  folder were previously stored in  representations_vgg_model.pkl . If you added new instances after this file creation, then please delete this file and call find function again. It will create it again.\n",
      "There are  5  representations found in  representations_vgg_model.pkl\n"
     ]
    },
    {
     "name": "stderr",
     "output_type": "stream",
     "text": [
      "Analyzing: 100%|██████████| 1/1 [00:00<00:00,  4.61it/s]\n",
      "Analyzing:   0%|          | 0/1 [00:00<?, ?it/s]"
     ]
    },
    {
     "name": "stdout",
     "output_type": "stream",
     "text": [
      "find function lasts  0.21935200691223145  seconds\n",
      "./database/Zirong Yu/front_mask2.jpg\n",
      "./database/Zirong Yu\n",
      "Already built model is passed\n",
      "WARNING: Representations for images in  ./database/  folder were previously stored in  representations_vgg_model.pkl . If you added new instances after this file creation, then please delete this file and call find function again. It will create it again.\n",
      "There are  5  representations found in  representations_vgg_model.pkl\n"
     ]
    },
    {
     "name": "stderr",
     "output_type": "stream",
     "text": [
      "Analyzing: 100%|██████████| 1/1 [00:00<00:00,  4.71it/s]\n",
      "Analyzing:   0%|          | 0/1 [00:00<?, ?it/s]"
     ]
    },
    {
     "name": "stdout",
     "output_type": "stream",
     "text": [
      "find function lasts  0.21581482887268066  seconds\n",
      "./database/Zirong Yu/front_mask2.jpg\n",
      "./database/Zirong Yu\n",
      "Already built model is passed\n",
      "WARNING: Representations for images in  ./database/  folder were previously stored in  representations_vgg_model.pkl . If you added new instances after this file creation, then please delete this file and call find function again. It will create it again.\n",
      "There are  5  representations found in  representations_vgg_model.pkl\n"
     ]
    },
    {
     "name": "stderr",
     "output_type": "stream",
     "text": [
      "Analyzing: 100%|██████████| 1/1 [00:00<00:00,  4.64it/s]\n",
      "Analyzing:   0%|          | 0/1 [00:00<?, ?it/s]"
     ]
    },
    {
     "name": "stdout",
     "output_type": "stream",
     "text": [
      "find function lasts  0.217879056930542  seconds\n",
      "./database/Zirong Yu/front_mask2.jpg\n",
      "./database/Zirong Yu\n",
      "Already built model is passed\n",
      "WARNING: Representations for images in  ./database/  folder were previously stored in  representations_vgg_model.pkl . If you added new instances after this file creation, then please delete this file and call find function again. It will create it again.\n",
      "There are  5  representations found in  representations_vgg_model.pkl\n"
     ]
    },
    {
     "name": "stderr",
     "output_type": "stream",
     "text": [
      "Analyzing: 100%|██████████| 1/1 [00:00<00:00,  4.74it/s]\n",
      "Analyzing:   0%|          | 0/1 [00:00<?, ?it/s]"
     ]
    },
    {
     "name": "stdout",
     "output_type": "stream",
     "text": [
      "find function lasts  0.21341395378112793  seconds\n",
      "./database/Zirong Yu/front_mask2.jpg\n",
      "./database/Zirong Yu\n",
      "Already built model is passed\n",
      "WARNING: Representations for images in  ./database/  folder were previously stored in  representations_vgg_model.pkl . If you added new instances after this file creation, then please delete this file and call find function again. It will create it again.\n",
      "There are  5  representations found in  representations_vgg_model.pkl\n"
     ]
    },
    {
     "name": "stderr",
     "output_type": "stream",
     "text": [
      "Analyzing: 100%|██████████| 1/1 [00:00<00:00,  4.46it/s]\n",
      "Analyzing:   0%|          | 0/1 [00:00<?, ?it/s]"
     ]
    },
    {
     "name": "stdout",
     "output_type": "stream",
     "text": [
      "find function lasts  0.2264251708984375  seconds\n",
      "./database/Zirong Yu/front_mask2.jpg\n",
      "./database/Zirong Yu\n",
      "Already built model is passed\n",
      "WARNING: Representations for images in  ./database/  folder were previously stored in  representations_vgg_model.pkl . If you added new instances after this file creation, then please delete this file and call find function again. It will create it again.\n",
      "There are  5  representations found in  representations_vgg_model.pkl\n"
     ]
    },
    {
     "name": "stderr",
     "output_type": "stream",
     "text": [
      "Analyzing: 100%|██████████| 1/1 [00:00<00:00,  4.19it/s]\n",
      "Analyzing:   0%|          | 0/1 [00:00<?, ?it/s]"
     ]
    },
    {
     "name": "stdout",
     "output_type": "stream",
     "text": [
      "find function lasts  0.2421257495880127  seconds\n",
      "./database/Zirong Yu/front_mask2.jpg\n",
      "./database/Zirong Yu\n",
      "Already built model is passed\n",
      "WARNING: Representations for images in  ./database/  folder were previously stored in  representations_vgg_model.pkl . If you added new instances after this file creation, then please delete this file and call find function again. It will create it again.\n",
      "There are  5  representations found in  representations_vgg_model.pkl\n"
     ]
    },
    {
     "name": "stderr",
     "output_type": "stream",
     "text": [
      "Analyzing: 100%|██████████| 1/1 [00:00<00:00,  4.42it/s]\n",
      "Analyzing:   0%|          | 0/1 [00:00<?, ?it/s]"
     ]
    },
    {
     "name": "stdout",
     "output_type": "stream",
     "text": [
      "find function lasts  0.22897100448608398  seconds\n",
      "./database/Zirong Yu/front_mask2.jpg\n",
      "./database/Zirong Yu\n",
      "Already built model is passed\n",
      "WARNING: Representations for images in  ./database/  folder were previously stored in  representations_vgg_model.pkl . If you added new instances after this file creation, then please delete this file and call find function again. It will create it again.\n",
      "There are  5  representations found in  representations_vgg_model.pkl\n"
     ]
    },
    {
     "name": "stderr",
     "output_type": "stream",
     "text": [
      "Analyzing: 100%|██████████| 1/1 [00:00<00:00,  4.66it/s]\n",
      "Analyzing:   0%|          | 0/1 [00:00<?, ?it/s]"
     ]
    },
    {
     "name": "stdout",
     "output_type": "stream",
     "text": [
      "find function lasts  0.21690011024475098  seconds\n",
      "./database/Zirong Yu/front_mask2.jpg\n",
      "./database/Zirong Yu\n",
      "Already built model is passed\n",
      "WARNING: Representations for images in  ./database/  folder were previously stored in  representations_vgg_model.pkl . If you added new instances after this file creation, then please delete this file and call find function again. It will create it again.\n",
      "There are  5  representations found in  representations_vgg_model.pkl\n"
     ]
    },
    {
     "name": "stderr",
     "output_type": "stream",
     "text": [
      "Analyzing: 100%|██████████| 1/1 [00:00<00:00,  4.18it/s]\n",
      "Analyzing:   0%|          | 0/1 [00:00<?, ?it/s]"
     ]
    },
    {
     "name": "stdout",
     "output_type": "stream",
     "text": [
      "find function lasts  0.2418680191040039  seconds\n",
      "./database/Zirong Yu/front_mask2.jpg\n",
      "./database/Zirong Yu\n",
      "Already built model is passed\n",
      "WARNING: Representations for images in  ./database/  folder were previously stored in  representations_vgg_model.pkl . If you added new instances after this file creation, then please delete this file and call find function again. It will create it again.\n",
      "There are  5  representations found in  representations_vgg_model.pkl\n"
     ]
    },
    {
     "name": "stderr",
     "output_type": "stream",
     "text": [
      "Analyzing: 100%|██████████| 1/1 [00:00<00:00,  4.24it/s]\n",
      "Analyzing:   0%|          | 0/1 [00:00<?, ?it/s]"
     ]
    },
    {
     "name": "stdout",
     "output_type": "stream",
     "text": [
      "find function lasts  0.23856806755065918  seconds\n",
      "./database/Zirong Yu/front_mask2.jpg\n",
      "./database/Zirong Yu\n",
      "Already built model is passed\n",
      "WARNING: Representations for images in  ./database/  folder were previously stored in  representations_vgg_model.pkl . If you added new instances after this file creation, then please delete this file and call find function again. It will create it again.\n",
      "There are  5  representations found in  representations_vgg_model.pkl\n"
     ]
    },
    {
     "name": "stderr",
     "output_type": "stream",
     "text": [
      "Analyzing: 100%|██████████| 1/1 [00:00<00:00,  3.98it/s]\n",
      "Analyzing:   0%|          | 0/1 [00:00<?, ?it/s]"
     ]
    },
    {
     "name": "stdout",
     "output_type": "stream",
     "text": [
      "find function lasts  0.2539331912994385  seconds\n",
      "./database/Zirong Yu/front_mask2.jpg\n",
      "./database/Zirong Yu\n",
      "Already built model is passed\n",
      "WARNING: Representations for images in  ./database/  folder were previously stored in  representations_vgg_model.pkl . If you added new instances after this file creation, then please delete this file and call find function again. It will create it again.\n",
      "There are  5  representations found in  representations_vgg_model.pkl\n"
     ]
    },
    {
     "name": "stderr",
     "output_type": "stream",
     "text": [
      "Analyzing: 100%|██████████| 1/1 [00:00<00:00,  3.95it/s]\n",
      "Analyzing:   0%|          | 0/1 [00:00<?, ?it/s]"
     ]
    },
    {
     "name": "stdout",
     "output_type": "stream",
     "text": [
      "find function lasts  0.2561001777648926  seconds\n",
      "./database/Zirong Yu/front_mask2.jpg\n",
      "./database/Zirong Yu\n",
      "Already built model is passed\n",
      "WARNING: Representations for images in  ./database/  folder were previously stored in  representations_vgg_model.pkl . If you added new instances after this file creation, then please delete this file and call find function again. It will create it again.\n",
      "There are  5  representations found in  representations_vgg_model.pkl\n"
     ]
    },
    {
     "name": "stderr",
     "output_type": "stream",
     "text": [
      "Analyzing: 100%|██████████| 1/1 [00:00<00:00,  4.24it/s]\n",
      "Analyzing:   0%|          | 0/1 [00:00<?, ?it/s]"
     ]
    },
    {
     "name": "stdout",
     "output_type": "stream",
     "text": [
      "find function lasts  0.23917317390441895  seconds\n",
      "./database/Zirong Yu/front_mask2.jpg\n",
      "./database/Zirong Yu\n",
      "Already built model is passed\n",
      "WARNING: Representations for images in  ./database/  folder were previously stored in  representations_vgg_model.pkl . If you added new instances after this file creation, then please delete this file and call find function again. It will create it again.\n",
      "There are  5  representations found in  representations_vgg_model.pkl\n"
     ]
    },
    {
     "name": "stderr",
     "output_type": "stream",
     "text": [
      "Analyzing: 100%|██████████| 1/1 [00:00<00:00,  4.17it/s]\n",
      "Analyzing:   0%|          | 0/1 [00:00<?, ?it/s]"
     ]
    },
    {
     "name": "stdout",
     "output_type": "stream",
     "text": [
      "find function lasts  0.2426900863647461  seconds\n",
      "./database/Zirong Yu/front_mask2.jpg\n",
      "./database/Zirong Yu\n",
      "Already built model is passed\n",
      "WARNING: Representations for images in  ./database/  folder were previously stored in  representations_vgg_model.pkl . If you added new instances after this file creation, then please delete this file and call find function again. It will create it again.\n",
      "There are  5  representations found in  representations_vgg_model.pkl\n"
     ]
    },
    {
     "name": "stderr",
     "output_type": "stream",
     "text": [
      "Analyzing: 100%|██████████| 1/1 [00:00<00:00,  4.46it/s]\n",
      "Analyzing:   0%|          | 0/1 [00:00<?, ?it/s]"
     ]
    },
    {
     "name": "stdout",
     "output_type": "stream",
     "text": [
      "find function lasts  0.22731280326843262  seconds\n",
      "./database/Zirong Yu/front_mask2.jpg\n",
      "./database/Zirong Yu\n",
      "Already built model is passed\n",
      "WARNING: Representations for images in  ./database/  folder were previously stored in  representations_vgg_model.pkl . If you added new instances after this file creation, then please delete this file and call find function again. It will create it again.\n",
      "There are  5  representations found in  representations_vgg_model.pkl\n"
     ]
    },
    {
     "name": "stderr",
     "output_type": "stream",
     "text": [
      "Analyzing: 100%|██████████| 1/1 [00:00<00:00,  4.43it/s]\n",
      "Analyzing:   0%|          | 0/1 [00:00<?, ?it/s]"
     ]
    },
    {
     "name": "stdout",
     "output_type": "stream",
     "text": [
      "find function lasts  0.22847795486450195  seconds\n",
      "./database/Zirong Yu/front_mask2.jpg\n",
      "./database/Zirong Yu\n",
      "Already built model is passed\n",
      "WARNING: Representations for images in  ./database/  folder were previously stored in  representations_vgg_model.pkl . If you added new instances after this file creation, then please delete this file and call find function again. It will create it again.\n",
      "There are  5  representations found in  representations_vgg_model.pkl\n"
     ]
    },
    {
     "name": "stderr",
     "output_type": "stream",
     "text": [
      "Analyzing: 100%|██████████| 1/1 [00:00<00:00,  4.71it/s]\n",
      "Analyzing:   0%|          | 0/1 [00:00<?, ?it/s]"
     ]
    },
    {
     "name": "stdout",
     "output_type": "stream",
     "text": [
      "find function lasts  0.21471190452575684  seconds\n",
      "./database/Zirong Yu/front_mask2.jpg\n",
      "./database/Zirong Yu\n",
      "Already built model is passed\n",
      "WARNING: Representations for images in  ./database/  folder were previously stored in  representations_vgg_model.pkl . If you added new instances after this file creation, then please delete this file and call find function again. It will create it again.\n",
      "There are  5  representations found in  representations_vgg_model.pkl\n"
     ]
    },
    {
     "name": "stderr",
     "output_type": "stream",
     "text": [
      "Analyzing: 100%|██████████| 1/1 [00:00<00:00,  4.75it/s]\n",
      "Analyzing:   0%|          | 0/1 [00:00<?, ?it/s]"
     ]
    },
    {
     "name": "stdout",
     "output_type": "stream",
     "text": [
      "find function lasts  0.21301579475402832  seconds\n",
      "./database/Zirong Yu/front_mask2.jpg\n",
      "./database/Zirong Yu\n",
      "Already built model is passed\n",
      "WARNING: Representations for images in  ./database/  folder were previously stored in  representations_vgg_model.pkl . If you added new instances after this file creation, then please delete this file and call find function again. It will create it again.\n",
      "There are  5  representations found in  representations_vgg_model.pkl\n"
     ]
    },
    {
     "name": "stderr",
     "output_type": "stream",
     "text": [
      "Analyzing: 100%|██████████| 1/1 [00:00<00:00,  4.94it/s]\n",
      "Analyzing:   0%|          | 0/1 [00:00<?, ?it/s]"
     ]
    },
    {
     "name": "stdout",
     "output_type": "stream",
     "text": [
      "find function lasts  0.2063429355621338  seconds\n",
      "./database/Zirong Yu/front_mask2.jpg\n",
      "./database/Zirong Yu\n",
      "Already built model is passed\n",
      "WARNING: Representations for images in  ./database/  folder were previously stored in  representations_vgg_model.pkl . If you added new instances after this file creation, then please delete this file and call find function again. It will create it again.\n",
      "There are  5  representations found in  representations_vgg_model.pkl\n"
     ]
    },
    {
     "name": "stderr",
     "output_type": "stream",
     "text": [
      "Analyzing: 100%|██████████| 1/1 [00:00<00:00,  4.17it/s]\n",
      "Analyzing:   0%|          | 0/1 [00:00<?, ?it/s]"
     ]
    },
    {
     "name": "stdout",
     "output_type": "stream",
     "text": [
      "find function lasts  0.24247026443481445  seconds\n",
      "./database/Zirong Yu/front_mask2.jpg\n",
      "./database/Zirong Yu\n",
      "Already built model is passed\n",
      "WARNING: Representations for images in  ./database/  folder were previously stored in  representations_vgg_model.pkl . If you added new instances after this file creation, then please delete this file and call find function again. It will create it again.\n",
      "There are  5  representations found in  representations_vgg_model.pkl\n"
     ]
    },
    {
     "name": "stderr",
     "output_type": "stream",
     "text": [
      "Analyzing: 100%|██████████| 1/1 [00:00<00:00,  4.39it/s]\n",
      "Analyzing:   0%|          | 0/1 [00:00<?, ?it/s]"
     ]
    },
    {
     "name": "stdout",
     "output_type": "stream",
     "text": [
      "find function lasts  0.23084783554077148  seconds\n",
      "./database/Zirong Yu/front_mask2.jpg\n",
      "./database/Zirong Yu\n",
      "Already built model is passed\n",
      "WARNING: Representations for images in  ./database/  folder were previously stored in  representations_vgg_model.pkl . If you added new instances after this file creation, then please delete this file and call find function again. It will create it again.\n",
      "There are  5  representations found in  representations_vgg_model.pkl\n"
     ]
    },
    {
     "name": "stderr",
     "output_type": "stream",
     "text": [
      "Analyzing: 100%|██████████| 1/1 [00:00<00:00,  4.63it/s]\n",
      "Analyzing:   0%|          | 0/1 [00:00<?, ?it/s]"
     ]
    },
    {
     "name": "stdout",
     "output_type": "stream",
     "text": [
      "find function lasts  0.2200460433959961  seconds\n",
      "./database/Zirong Yu/front_mask2.jpg\n",
      "./database/Zirong Yu\n",
      "Already built model is passed\n",
      "WARNING: Representations for images in  ./database/  folder were previously stored in  representations_vgg_model.pkl . If you added new instances after this file creation, then please delete this file and call find function again. It will create it again.\n",
      "There are  5  representations found in  representations_vgg_model.pkl\n"
     ]
    },
    {
     "name": "stderr",
     "output_type": "stream",
     "text": [
      "Analyzing: 100%|██████████| 1/1 [00:00<00:00,  4.60it/s]\n",
      "Analyzing:   0%|          | 0/1 [00:00<?, ?it/s]"
     ]
    },
    {
     "name": "stdout",
     "output_type": "stream",
     "text": [
      "find function lasts  0.2200927734375  seconds\n",
      "./database/Zirong Yu/front_mask2.jpg\n",
      "./database/Zirong Yu\n",
      "Already built model is passed\n",
      "WARNING: Representations for images in  ./database/  folder were previously stored in  representations_vgg_model.pkl . If you added new instances after this file creation, then please delete this file and call find function again. It will create it again.\n",
      "There are  5  representations found in  representations_vgg_model.pkl\n"
     ]
    },
    {
     "name": "stderr",
     "output_type": "stream",
     "text": [
      "Analyzing: 100%|██████████| 1/1 [00:00<00:00,  4.66it/s]\n",
      "Analyzing:   0%|          | 0/1 [00:00<?, ?it/s]"
     ]
    },
    {
     "name": "stdout",
     "output_type": "stream",
     "text": [
      "find function lasts  0.21698498725891113  seconds\n",
      "./database/Zirong Yu/front_mask2.jpg\n",
      "./database/Zirong Yu\n",
      "Already built model is passed\n",
      "WARNING: Representations for images in  ./database/  folder were previously stored in  representations_vgg_model.pkl . If you added new instances after this file creation, then please delete this file and call find function again. It will create it again.\n",
      "There are  5  representations found in  representations_vgg_model.pkl\n"
     ]
    },
    {
     "name": "stderr",
     "output_type": "stream",
     "text": [
      "Analyzing: 100%|██████████| 1/1 [00:00<00:00,  4.88it/s]\n",
      "Analyzing:   0%|          | 0/1 [00:00<?, ?it/s]"
     ]
    },
    {
     "name": "stdout",
     "output_type": "stream",
     "text": [
      "find function lasts  0.2074270248413086  seconds\n",
      "./database/Zirong Yu/front_mask2.jpg\n",
      "./database/Zirong Yu\n",
      "Already built model is passed\n",
      "WARNING: Representations for images in  ./database/  folder were previously stored in  representations_vgg_model.pkl . If you added new instances after this file creation, then please delete this file and call find function again. It will create it again.\n",
      "There are  5  representations found in  representations_vgg_model.pkl\n"
     ]
    },
    {
     "name": "stderr",
     "output_type": "stream",
     "text": [
      "Analyzing: 100%|██████████| 1/1 [00:00<00:00,  4.83it/s]\n",
      "Analyzing:   0%|          | 0/1 [00:00<?, ?it/s]"
     ]
    },
    {
     "name": "stdout",
     "output_type": "stream",
     "text": [
      "find function lasts  0.20969796180725098  seconds\n",
      "./database/Zirong Yu/front_mask2.jpg\n",
      "./database/Zirong Yu\n",
      "Already built model is passed\n",
      "WARNING: Representations for images in  ./database/  folder were previously stored in  representations_vgg_model.pkl . If you added new instances after this file creation, then please delete this file and call find function again. It will create it again.\n",
      "There are  5  representations found in  representations_vgg_model.pkl\n"
     ]
    },
    {
     "name": "stderr",
     "output_type": "stream",
     "text": [
      "Analyzing: 100%|██████████| 1/1 [00:00<00:00,  4.73it/s]\n",
      "Analyzing:   0%|          | 0/1 [00:00<?, ?it/s]"
     ]
    },
    {
     "name": "stdout",
     "output_type": "stream",
     "text": [
      "find function lasts  0.2136690616607666  seconds\n",
      "./database/Zirong Yu/front_mask2.jpg\n",
      "./database/Zirong Yu\n",
      "Already built model is passed\n",
      "WARNING: Representations for images in  ./database/  folder were previously stored in  representations_vgg_model.pkl . If you added new instances after this file creation, then please delete this file and call find function again. It will create it again.\n",
      "There are  5  representations found in  representations_vgg_model.pkl\n"
     ]
    },
    {
     "name": "stderr",
     "output_type": "stream",
     "text": [
      "Analyzing: 100%|██████████| 1/1 [00:00<00:00,  4.88it/s]\n",
      "Analyzing:   0%|          | 0/1 [00:00<?, ?it/s]"
     ]
    },
    {
     "name": "stdout",
     "output_type": "stream",
     "text": [
      "find function lasts  0.20814895629882812  seconds\n",
      "./database/Zirong Yu/front_mask2.jpg\n",
      "./database/Zirong Yu\n",
      "Already built model is passed\n",
      "WARNING: Representations for images in  ./database/  folder were previously stored in  representations_vgg_model.pkl . If you added new instances after this file creation, then please delete this file and call find function again. It will create it again.\n",
      "There are  5  representations found in  representations_vgg_model.pkl\n"
     ]
    },
    {
     "name": "stderr",
     "output_type": "stream",
     "text": [
      "Analyzing: 100%|██████████| 1/1 [00:00<00:00,  4.69it/s]\n",
      "Analyzing:   0%|          | 0/1 [00:00<?, ?it/s]"
     ]
    },
    {
     "name": "stdout",
     "output_type": "stream",
     "text": [
      "find function lasts  0.21538305282592773  seconds\n",
      "./database/Zirong Yu/front_mask2.jpg\n",
      "./database/Zirong Yu\n",
      "Already built model is passed\n",
      "WARNING: Representations for images in  ./database/  folder were previously stored in  representations_vgg_model.pkl . If you added new instances after this file creation, then please delete this file and call find function again. It will create it again.\n",
      "There are  5  representations found in  representations_vgg_model.pkl\n"
     ]
    },
    {
     "name": "stderr",
     "output_type": "stream",
     "text": [
      "Analyzing: 100%|██████████| 1/1 [00:00<00:00,  4.57it/s]\n"
     ]
    },
    {
     "name": "stdout",
     "output_type": "stream",
     "text": [
      "find function lasts  0.22136926651000977  seconds\n",
      "./database/Zirong Yu/front_mask2.jpg\n",
      "./database/Zirong Yu\n"
     ]
    },
    {
     "name": "stderr",
     "output_type": "stream",
     "text": [
      "\r",
      "Analyzing:   0%|          | 0/1 [00:00<?, ?it/s]"
     ]
    },
    {
     "name": "stdout",
     "output_type": "stream",
     "text": [
      "Already built model is passed\n",
      "WARNING: Representations for images in  ./database/  folder were previously stored in  representations_vgg_model.pkl . If you added new instances after this file creation, then please delete this file and call find function again. It will create it again.\n",
      "There are  5  representations found in  representations_vgg_model.pkl\n"
     ]
    },
    {
     "name": "stderr",
     "output_type": "stream",
     "text": [
      "Analyzing: 100%|██████████| 1/1 [00:00<00:00,  4.60it/s]\n",
      "Analyzing:   0%|          | 0/1 [00:00<?, ?it/s]"
     ]
    },
    {
     "name": "stdout",
     "output_type": "stream",
     "text": [
      "find function lasts  0.22072482109069824  seconds\n",
      "./database/Zirong Yu/front_mask2.jpg\n",
      "./database/Zirong Yu\n",
      "Already built model is passed\n",
      "WARNING: Representations for images in  ./database/  folder were previously stored in  representations_vgg_model.pkl . If you added new instances after this file creation, then please delete this file and call find function again. It will create it again.\n",
      "There are  5  representations found in  representations_vgg_model.pkl\n"
     ]
    },
    {
     "name": "stderr",
     "output_type": "stream",
     "text": [
      "Analyzing: 100%|██████████| 1/1 [00:00<00:00,  4.78it/s]\n",
      "Analyzing:   0%|          | 0/1 [00:00<?, ?it/s]"
     ]
    },
    {
     "name": "stdout",
     "output_type": "stream",
     "text": [
      "find function lasts  0.2123432159423828  seconds\n",
      "./database/Zirong Yu/front_mask2.jpg\n",
      "./database/Zirong Yu\n",
      "Already built model is passed\n",
      "WARNING: Representations for images in  ./database/  folder were previously stored in  representations_vgg_model.pkl . If you added new instances after this file creation, then please delete this file and call find function again. It will create it again.\n",
      "There are  5  representations found in  representations_vgg_model.pkl\n"
     ]
    },
    {
     "name": "stderr",
     "output_type": "stream",
     "text": [
      "Analyzing: 100%|██████████| 1/1 [00:00<00:00,  4.55it/s]\n",
      "Analyzing:   0%|          | 0/1 [00:00<?, ?it/s]"
     ]
    },
    {
     "name": "stdout",
     "output_type": "stream",
     "text": [
      "find function lasts  0.2228529453277588  seconds\n",
      "./database/Zirong Yu/front_mask2.jpg\n",
      "./database/Zirong Yu\n",
      "Already built model is passed\n",
      "WARNING: Representations for images in  ./database/  folder were previously stored in  representations_vgg_model.pkl . If you added new instances after this file creation, then please delete this file and call find function again. It will create it again.\n",
      "There are  5  representations found in  representations_vgg_model.pkl\n"
     ]
    },
    {
     "name": "stderr",
     "output_type": "stream",
     "text": [
      "Analyzing: 100%|██████████| 1/1 [00:00<00:00,  4.53it/s]\n",
      "Analyzing:   0%|          | 0/1 [00:00<?, ?it/s]"
     ]
    },
    {
     "name": "stdout",
     "output_type": "stream",
     "text": [
      "find function lasts  0.22305798530578613  seconds\n",
      "./database/Zirong Yu/front_mask2.jpg\n",
      "./database/Zirong Yu\n",
      "Already built model is passed\n",
      "WARNING: Representations for images in  ./database/  folder were previously stored in  representations_vgg_model.pkl . If you added new instances after this file creation, then please delete this file and call find function again. It will create it again.\n",
      "There are  5  representations found in  representations_vgg_model.pkl\n"
     ]
    },
    {
     "name": "stderr",
     "output_type": "stream",
     "text": [
      "Analyzing: 100%|██████████| 1/1 [00:00<00:00,  4.04it/s]\n",
      "Analyzing:   0%|          | 0/1 [00:00<?, ?it/s]"
     ]
    },
    {
     "name": "stdout",
     "output_type": "stream",
     "text": [
      "find function lasts  0.2505300045013428  seconds\n",
      "./database/Zirong Yu/front_mask2.jpg\n",
      "./database/Zirong Yu\n",
      "Already built model is passed\n",
      "WARNING: Representations for images in  ./database/  folder were previously stored in  representations_vgg_model.pkl . If you added new instances after this file creation, then please delete this file and call find function again. It will create it again.\n",
      "There are  5  representations found in  representations_vgg_model.pkl\n"
     ]
    },
    {
     "name": "stderr",
     "output_type": "stream",
     "text": [
      "Analyzing: 100%|██████████| 1/1 [00:00<00:00,  4.60it/s]\n",
      "Analyzing:   0%|          | 0/1 [00:00<?, ?it/s]"
     ]
    },
    {
     "name": "stdout",
     "output_type": "stream",
     "text": [
      "find function lasts  0.22008800506591797  seconds\n",
      "./database/Zirong Yu/front_mask2.jpg\n",
      "./database/Zirong Yu\n",
      "Already built model is passed\n",
      "WARNING: Representations for images in  ./database/  folder were previously stored in  representations_vgg_model.pkl . If you added new instances after this file creation, then please delete this file and call find function again. It will create it again.\n",
      "There are  5  representations found in  representations_vgg_model.pkl\n"
     ]
    },
    {
     "name": "stderr",
     "output_type": "stream",
     "text": [
      "Analyzing: 100%|██████████| 1/1 [00:00<00:00,  4.16it/s]\n",
      "Analyzing:   0%|          | 0/1 [00:00<?, ?it/s]"
     ]
    },
    {
     "name": "stdout",
     "output_type": "stream",
     "text": [
      "find function lasts  0.24344992637634277  seconds\n",
      "./database/Zirong Yu/front_mask2.jpg\n",
      "./database/Zirong Yu\n",
      "Already built model is passed\n",
      "WARNING: Representations for images in  ./database/  folder were previously stored in  representations_vgg_model.pkl . If you added new instances after this file creation, then please delete this file and call find function again. It will create it again.\n",
      "There are  5  representations found in  representations_vgg_model.pkl\n"
     ]
    },
    {
     "name": "stderr",
     "output_type": "stream",
     "text": [
      "Analyzing: 100%|██████████| 1/1 [00:00<00:00,  4.44it/s]\n",
      "Analyzing:   0%|          | 0/1 [00:00<?, ?it/s]"
     ]
    },
    {
     "name": "stdout",
     "output_type": "stream",
     "text": [
      "find function lasts  0.22799181938171387  seconds\n",
      "./database/Zirong Yu/front_mask2.jpg\n",
      "./database/Zirong Yu\n",
      "Already built model is passed\n",
      "WARNING: Representations for images in  ./database/  folder were previously stored in  representations_vgg_model.pkl . If you added new instances after this file creation, then please delete this file and call find function again. It will create it again.\n",
      "There are  5  representations found in  representations_vgg_model.pkl\n"
     ]
    },
    {
     "name": "stderr",
     "output_type": "stream",
     "text": [
      "Analyzing: 100%|██████████| 1/1 [00:00<00:00,  4.80it/s]\n",
      "Analyzing:   0%|          | 0/1 [00:00<?, ?it/s]"
     ]
    },
    {
     "name": "stdout",
     "output_type": "stream",
     "text": [
      "find function lasts  0.210968017578125  seconds\n",
      "./database/Zirong Yu/front_mask2.jpg\n",
      "./database/Zirong Yu\n",
      "Already built model is passed\n",
      "WARNING: Representations for images in  ./database/  folder were previously stored in  representations_vgg_model.pkl . If you added new instances after this file creation, then please delete this file and call find function again. It will create it again.\n",
      "There are  5  representations found in  representations_vgg_model.pkl\n"
     ]
    },
    {
     "name": "stderr",
     "output_type": "stream",
     "text": [
      "Analyzing: 100%|██████████| 1/1 [00:00<00:00,  4.12it/s]\n"
     ]
    },
    {
     "name": "stdout",
     "output_type": "stream",
     "text": [
      "find function lasts  0.24580001831054688  seconds\n",
      "./database/Zirong Yu/1606259394031.jpg\n",
      "./database/Zirong Yu\n"
     ]
    }
   ],
   "source": [
    "detector = cv2.dnn.readNetFromCaffe(deploy_path, model_path)\n",
    "source=cv2.VideoCapture(cv_flag)\n",
    "while(source.isOpened()):\n",
    "    ret,image=source.read()\n",
    "    if ret == False:\n",
    "        break\n",
    "    locs, faces = detect(image, detector)\n",
    "    for (box, face) in zip(locs, faces):\n",
    "        (startX, startY, endX, endY) = box\n",
    "        resize_img  = cv2.resize(face,(150,150))\n",
    "        normalized = resize_img/255.0\n",
    "        reshape = np.reshape(normalized,(1,150,150,3))\n",
    "        reshape = np.vstack([reshape])\n",
    "        result = mask_model.predict(reshape)\n",
    "        prediction = np.argmax(result,axis=1)\n",
    "        color = (0, 255, 0)\n",
    "        label = \"Mask\"\n",
    "        if prediction[0] == 1:\n",
    "            color = (0, 0, 255)\n",
    "            label = \"No Mask\"\n",
    "       \n",
    "        \n",
    "        path = get_deepFace_result(face)\n",
    "        cv2.putText(image, path, (startX, startY - 25),\n",
    "                cv2.FONT_HERSHEY_SIMPLEX, 0.45, color, 2)\n",
    "        cv2.putText(image, label, (startX, startY - 10),\n",
    "                cv2.FONT_HERSHEY_COMPLEX, 0.45, color, 2)\n",
    "        cv2.rectangle(image, (startX, startY), (endX, endY), color, 2)\n",
    "        cv2.imshow('frame',image)\n",
    "    \n",
    "    if cv2.waitKey(20) & 0xFF == ord('q'):\n",
    "        break\n",
    "    \n",
    "cv2.destroyAllWindows()\n",
    "source.release()"
   ]
  },
  {
   "cell_type": "code",
   "execution_count": null,
   "metadata": {},
   "outputs": [],
   "source": []
  },
  {
   "cell_type": "code",
   "execution_count": null,
   "metadata": {},
   "outputs": [],
   "source": []
  }
 ],
 "metadata": {
  "kernelspec": {
   "display_name": "Python 3",
   "language": "python",
   "name": "python3"
  },
  "language_info": {
   "codemirror_mode": {
    "name": "ipython",
    "version": 3
   },
   "file_extension": ".py",
   "mimetype": "text/x-python",
   "name": "python",
   "nbconvert_exporter": "python",
   "pygments_lexer": "ipython3",
   "version": "3.7.0"
  }
 },
 "nbformat": 4,
 "nbformat_minor": 4
}
